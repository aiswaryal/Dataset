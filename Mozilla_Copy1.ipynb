{
  "nbformat": 4,
  "nbformat_minor": 0,
  "metadata": {
    "colab": {
      "name": "Mozilla-Copy1.ipynb",
      "provenance": [],
      "collapsed_sections": []
    },
    "kernelspec": {
      "display_name": "Python 3",
      "language": "python",
      "name": "python3"
    },
    "language_info": {
      "codemirror_mode": {
        "name": "ipython",
        "version": 3
      },
      "file_extension": ".py",
      "mimetype": "text/x-python",
      "name": "python",
      "nbconvert_exporter": "python",
      "pygments_lexer": "ipython3",
      "version": "3.7.6"
    }
  },
  "cells": [
    {
      "cell_type": "markdown",
      "metadata": {
        "id": "nj2Xe-FK2eNs"
      },
      "source": [
        " Pandas allows various data manipulation operations such as merging, reshaping, selecting, as well as data cleaning, and data wrangling features.\n"
      ]
    },
    {
      "cell_type": "markdown",
      "metadata": {
        "id": "Zfn0zeG52rH0"
      },
      "source": [
        "NumPy contains a multi-dimensional array and matrix data structures. It can be utilised to perform a number of mathematical operations on arrays such as trigonometric, statistical, and algebraic routines"
      ]
    },
    {
      "cell_type": "code",
      "metadata": {
        "id": "rdS8VeJFSdEl"
      },
      "source": [
        "import pandas as pd\n",
        "import numpy as np\n",
        "import seaborn as sns\n",
        "import matplotlib.pyplot as plt\n",
        "plt.style.use(style = 'ggplot')\n",
        "from scipy.stats import norm, skew \n"
      ],
      "execution_count": 1,
      "outputs": []
    },
    {
      "cell_type": "markdown",
      "metadata": {
        "id": "wvund2i62Qfg"
      },
      "source": [
        "pd.read_csv method creates dataframe from csv file"
      ]
    },
    {
      "cell_type": "code",
      "metadata": {
        "id": "STwn6051TJUL"
      },
      "source": [
        "df1 = pd.read_csv('dataset.csv')"
      ],
      "execution_count": 2,
      "outputs": []
    },
    {
      "cell_type": "markdown",
      "metadata": {
        "id": "wHW_RFbV2tPe"
      },
      "source": [
        "The head() function is used to get the first n rows. "
      ]
    },
    {
      "cell_type": "code",
      "metadata": {
        "colab": {
          "base_uri": "https://localhost:8080/",
          "height": 244
        },
        "id": "aa5MXYKZTPmv",
        "outputId": "30133fd1-b056-4f6b-b67a-16d0cedb27dd"
      },
      "source": [
        "df1.head()"
      ],
      "execution_count": 3,
      "outputs": [
        {
          "output_type": "execute_result",
          "data": {
            "text/html": [
              "<div>\n",
              "<style scoped>\n",
              "    .dataframe tbody tr th:only-of-type {\n",
              "        vertical-align: middle;\n",
              "    }\n",
              "\n",
              "    .dataframe tbody tr th {\n",
              "        vertical-align: top;\n",
              "    }\n",
              "\n",
              "    .dataframe thead th {\n",
              "        text-align: right;\n",
              "    }\n",
              "</style>\n",
              "<table border=\"1\" class=\"dataframe\">\n",
              "  <thead>\n",
              "    <tr style=\"text-align: right;\">\n",
              "      <th></th>\n",
              "      <th>Id</th>\n",
              "      <th>MSSubClass</th>\n",
              "      <th>MSZoning</th>\n",
              "      <th>LotFrontage</th>\n",
              "      <th>LotArea</th>\n",
              "      <th>Street</th>\n",
              "      <th>Alley</th>\n",
              "      <th>LotShape</th>\n",
              "      <th>LandContour</th>\n",
              "      <th>Utilities</th>\n",
              "      <th>LotConfig</th>\n",
              "      <th>LandSlope</th>\n",
              "      <th>Neighborhood</th>\n",
              "      <th>Condition1</th>\n",
              "      <th>Condition2</th>\n",
              "      <th>BldgType</th>\n",
              "      <th>HouseStyle</th>\n",
              "      <th>OverallQual</th>\n",
              "      <th>OverallCond</th>\n",
              "      <th>YearBuilt</th>\n",
              "      <th>YearRemodAdd</th>\n",
              "      <th>RoofStyle</th>\n",
              "      <th>RoofMatl</th>\n",
              "      <th>Exterior1st</th>\n",
              "      <th>Exterior2nd</th>\n",
              "      <th>MasVnrType</th>\n",
              "      <th>MasVnrArea</th>\n",
              "      <th>ExterQual</th>\n",
              "      <th>ExterCond</th>\n",
              "      <th>Foundation</th>\n",
              "      <th>BsmtQual</th>\n",
              "      <th>BsmtCond</th>\n",
              "      <th>BsmtExposure</th>\n",
              "      <th>BsmtFinType1</th>\n",
              "      <th>BsmtFinSF1</th>\n",
              "      <th>BsmtFinType2</th>\n",
              "      <th>BsmtFinSF2</th>\n",
              "      <th>BsmtUnfSF</th>\n",
              "      <th>TotalBsmtSF</th>\n",
              "      <th>Heating</th>\n",
              "      <th>...</th>\n",
              "      <th>CentralAir</th>\n",
              "      <th>Electrical</th>\n",
              "      <th>1stFlrSF</th>\n",
              "      <th>2ndFlrSF</th>\n",
              "      <th>LowQualFinSF</th>\n",
              "      <th>GrLivArea</th>\n",
              "      <th>BsmtFullBath</th>\n",
              "      <th>BsmtHalfBath</th>\n",
              "      <th>FullBath</th>\n",
              "      <th>HalfBath</th>\n",
              "      <th>BedroomAbvGr</th>\n",
              "      <th>KitchenAbvGr</th>\n",
              "      <th>KitchenQual</th>\n",
              "      <th>TotRmsAbvGrd</th>\n",
              "      <th>Functional</th>\n",
              "      <th>Fireplaces</th>\n",
              "      <th>FireplaceQu</th>\n",
              "      <th>GarageType</th>\n",
              "      <th>GarageYrBlt</th>\n",
              "      <th>GarageFinish</th>\n",
              "      <th>GarageCars</th>\n",
              "      <th>GarageArea</th>\n",
              "      <th>GarageQual</th>\n",
              "      <th>GarageCond</th>\n",
              "      <th>PavedDrive</th>\n",
              "      <th>WoodDeckSF</th>\n",
              "      <th>OpenPorchSF</th>\n",
              "      <th>EnclosedPorch</th>\n",
              "      <th>3SsnPorch</th>\n",
              "      <th>ScreenPorch</th>\n",
              "      <th>PoolArea</th>\n",
              "      <th>PoolQC</th>\n",
              "      <th>Fence</th>\n",
              "      <th>MiscFeature</th>\n",
              "      <th>MiscVal</th>\n",
              "      <th>MoSold</th>\n",
              "      <th>YrSold</th>\n",
              "      <th>SaleType</th>\n",
              "      <th>SaleCondition</th>\n",
              "      <th>SalePrice</th>\n",
              "    </tr>\n",
              "  </thead>\n",
              "  <tbody>\n",
              "    <tr>\n",
              "      <th>0</th>\n",
              "      <td>1</td>\n",
              "      <td>60</td>\n",
              "      <td>RL</td>\n",
              "      <td>65.0</td>\n",
              "      <td>8450</td>\n",
              "      <td>Pave</td>\n",
              "      <td>NaN</td>\n",
              "      <td>Reg</td>\n",
              "      <td>Lvl</td>\n",
              "      <td>AllPub</td>\n",
              "      <td>Inside</td>\n",
              "      <td>Gtl</td>\n",
              "      <td>CollgCr</td>\n",
              "      <td>Norm</td>\n",
              "      <td>Norm</td>\n",
              "      <td>1Fam</td>\n",
              "      <td>2Story</td>\n",
              "      <td>7</td>\n",
              "      <td>5</td>\n",
              "      <td>2003</td>\n",
              "      <td>2003</td>\n",
              "      <td>Gable</td>\n",
              "      <td>CompShg</td>\n",
              "      <td>VinylSd</td>\n",
              "      <td>VinylSd</td>\n",
              "      <td>BrkFace</td>\n",
              "      <td>196.0</td>\n",
              "      <td>Gd</td>\n",
              "      <td>TA</td>\n",
              "      <td>PConc</td>\n",
              "      <td>Gd</td>\n",
              "      <td>TA</td>\n",
              "      <td>No</td>\n",
              "      <td>GLQ</td>\n",
              "      <td>706</td>\n",
              "      <td>Unf</td>\n",
              "      <td>0</td>\n",
              "      <td>150</td>\n",
              "      <td>856</td>\n",
              "      <td>GasA</td>\n",
              "      <td>...</td>\n",
              "      <td>Y</td>\n",
              "      <td>SBrkr</td>\n",
              "      <td>856</td>\n",
              "      <td>854</td>\n",
              "      <td>0</td>\n",
              "      <td>1710</td>\n",
              "      <td>1</td>\n",
              "      <td>0</td>\n",
              "      <td>2</td>\n",
              "      <td>1</td>\n",
              "      <td>3</td>\n",
              "      <td>1</td>\n",
              "      <td>Gd</td>\n",
              "      <td>8</td>\n",
              "      <td>Typ</td>\n",
              "      <td>0</td>\n",
              "      <td>NaN</td>\n",
              "      <td>Attchd</td>\n",
              "      <td>2003.0</td>\n",
              "      <td>RFn</td>\n",
              "      <td>2</td>\n",
              "      <td>548</td>\n",
              "      <td>TA</td>\n",
              "      <td>TA</td>\n",
              "      <td>Y</td>\n",
              "      <td>0</td>\n",
              "      <td>61</td>\n",
              "      <td>0</td>\n",
              "      <td>0</td>\n",
              "      <td>0</td>\n",
              "      <td>0</td>\n",
              "      <td>NaN</td>\n",
              "      <td>NaN</td>\n",
              "      <td>NaN</td>\n",
              "      <td>0</td>\n",
              "      <td>2</td>\n",
              "      <td>2008</td>\n",
              "      <td>WD</td>\n",
              "      <td>Normal</td>\n",
              "      <td>208500</td>\n",
              "    </tr>\n",
              "    <tr>\n",
              "      <th>1</th>\n",
              "      <td>2</td>\n",
              "      <td>20</td>\n",
              "      <td>RL</td>\n",
              "      <td>80.0</td>\n",
              "      <td>9600</td>\n",
              "      <td>Pave</td>\n",
              "      <td>NaN</td>\n",
              "      <td>Reg</td>\n",
              "      <td>Lvl</td>\n",
              "      <td>AllPub</td>\n",
              "      <td>FR2</td>\n",
              "      <td>Gtl</td>\n",
              "      <td>Veenker</td>\n",
              "      <td>Feedr</td>\n",
              "      <td>Norm</td>\n",
              "      <td>1Fam</td>\n",
              "      <td>1Story</td>\n",
              "      <td>6</td>\n",
              "      <td>8</td>\n",
              "      <td>1976</td>\n",
              "      <td>1976</td>\n",
              "      <td>Gable</td>\n",
              "      <td>CompShg</td>\n",
              "      <td>MetalSd</td>\n",
              "      <td>MetalSd</td>\n",
              "      <td>None</td>\n",
              "      <td>0.0</td>\n",
              "      <td>TA</td>\n",
              "      <td>TA</td>\n",
              "      <td>CBlock</td>\n",
              "      <td>Gd</td>\n",
              "      <td>TA</td>\n",
              "      <td>Gd</td>\n",
              "      <td>ALQ</td>\n",
              "      <td>978</td>\n",
              "      <td>Unf</td>\n",
              "      <td>0</td>\n",
              "      <td>284</td>\n",
              "      <td>1262</td>\n",
              "      <td>GasA</td>\n",
              "      <td>...</td>\n",
              "      <td>Y</td>\n",
              "      <td>SBrkr</td>\n",
              "      <td>1262</td>\n",
              "      <td>0</td>\n",
              "      <td>0</td>\n",
              "      <td>1262</td>\n",
              "      <td>0</td>\n",
              "      <td>1</td>\n",
              "      <td>2</td>\n",
              "      <td>0</td>\n",
              "      <td>3</td>\n",
              "      <td>1</td>\n",
              "      <td>TA</td>\n",
              "      <td>6</td>\n",
              "      <td>Typ</td>\n",
              "      <td>1</td>\n",
              "      <td>TA</td>\n",
              "      <td>Attchd</td>\n",
              "      <td>1976.0</td>\n",
              "      <td>RFn</td>\n",
              "      <td>2</td>\n",
              "      <td>460</td>\n",
              "      <td>TA</td>\n",
              "      <td>TA</td>\n",
              "      <td>Y</td>\n",
              "      <td>298</td>\n",
              "      <td>0</td>\n",
              "      <td>0</td>\n",
              "      <td>0</td>\n",
              "      <td>0</td>\n",
              "      <td>0</td>\n",
              "      <td>NaN</td>\n",
              "      <td>NaN</td>\n",
              "      <td>NaN</td>\n",
              "      <td>0</td>\n",
              "      <td>5</td>\n",
              "      <td>2007</td>\n",
              "      <td>WD</td>\n",
              "      <td>Normal</td>\n",
              "      <td>181500</td>\n",
              "    </tr>\n",
              "    <tr>\n",
              "      <th>2</th>\n",
              "      <td>3</td>\n",
              "      <td>60</td>\n",
              "      <td>RL</td>\n",
              "      <td>68.0</td>\n",
              "      <td>11250</td>\n",
              "      <td>Pave</td>\n",
              "      <td>NaN</td>\n",
              "      <td>IR1</td>\n",
              "      <td>Lvl</td>\n",
              "      <td>AllPub</td>\n",
              "      <td>Inside</td>\n",
              "      <td>Gtl</td>\n",
              "      <td>CollgCr</td>\n",
              "      <td>Norm</td>\n",
              "      <td>Norm</td>\n",
              "      <td>1Fam</td>\n",
              "      <td>2Story</td>\n",
              "      <td>7</td>\n",
              "      <td>5</td>\n",
              "      <td>2001</td>\n",
              "      <td>2002</td>\n",
              "      <td>Gable</td>\n",
              "      <td>CompShg</td>\n",
              "      <td>VinylSd</td>\n",
              "      <td>VinylSd</td>\n",
              "      <td>BrkFace</td>\n",
              "      <td>162.0</td>\n",
              "      <td>Gd</td>\n",
              "      <td>TA</td>\n",
              "      <td>PConc</td>\n",
              "      <td>Gd</td>\n",
              "      <td>TA</td>\n",
              "      <td>Mn</td>\n",
              "      <td>GLQ</td>\n",
              "      <td>486</td>\n",
              "      <td>Unf</td>\n",
              "      <td>0</td>\n",
              "      <td>434</td>\n",
              "      <td>920</td>\n",
              "      <td>GasA</td>\n",
              "      <td>...</td>\n",
              "      <td>Y</td>\n",
              "      <td>SBrkr</td>\n",
              "      <td>920</td>\n",
              "      <td>866</td>\n",
              "      <td>0</td>\n",
              "      <td>1786</td>\n",
              "      <td>1</td>\n",
              "      <td>0</td>\n",
              "      <td>2</td>\n",
              "      <td>1</td>\n",
              "      <td>3</td>\n",
              "      <td>1</td>\n",
              "      <td>Gd</td>\n",
              "      <td>6</td>\n",
              "      <td>Typ</td>\n",
              "      <td>1</td>\n",
              "      <td>TA</td>\n",
              "      <td>Attchd</td>\n",
              "      <td>2001.0</td>\n",
              "      <td>RFn</td>\n",
              "      <td>2</td>\n",
              "      <td>608</td>\n",
              "      <td>TA</td>\n",
              "      <td>TA</td>\n",
              "      <td>Y</td>\n",
              "      <td>0</td>\n",
              "      <td>42</td>\n",
              "      <td>0</td>\n",
              "      <td>0</td>\n",
              "      <td>0</td>\n",
              "      <td>0</td>\n",
              "      <td>NaN</td>\n",
              "      <td>NaN</td>\n",
              "      <td>NaN</td>\n",
              "      <td>0</td>\n",
              "      <td>9</td>\n",
              "      <td>2008</td>\n",
              "      <td>WD</td>\n",
              "      <td>Normal</td>\n",
              "      <td>223500</td>\n",
              "    </tr>\n",
              "    <tr>\n",
              "      <th>3</th>\n",
              "      <td>4</td>\n",
              "      <td>70</td>\n",
              "      <td>RL</td>\n",
              "      <td>60.0</td>\n",
              "      <td>9550</td>\n",
              "      <td>Pave</td>\n",
              "      <td>NaN</td>\n",
              "      <td>IR1</td>\n",
              "      <td>Lvl</td>\n",
              "      <td>AllPub</td>\n",
              "      <td>Corner</td>\n",
              "      <td>Gtl</td>\n",
              "      <td>Crawfor</td>\n",
              "      <td>Norm</td>\n",
              "      <td>Norm</td>\n",
              "      <td>1Fam</td>\n",
              "      <td>2Story</td>\n",
              "      <td>7</td>\n",
              "      <td>5</td>\n",
              "      <td>1915</td>\n",
              "      <td>1970</td>\n",
              "      <td>Gable</td>\n",
              "      <td>CompShg</td>\n",
              "      <td>Wd Sdng</td>\n",
              "      <td>Wd Shng</td>\n",
              "      <td>None</td>\n",
              "      <td>0.0</td>\n",
              "      <td>TA</td>\n",
              "      <td>TA</td>\n",
              "      <td>BrkTil</td>\n",
              "      <td>TA</td>\n",
              "      <td>Gd</td>\n",
              "      <td>No</td>\n",
              "      <td>ALQ</td>\n",
              "      <td>216</td>\n",
              "      <td>Unf</td>\n",
              "      <td>0</td>\n",
              "      <td>540</td>\n",
              "      <td>756</td>\n",
              "      <td>GasA</td>\n",
              "      <td>...</td>\n",
              "      <td>Y</td>\n",
              "      <td>SBrkr</td>\n",
              "      <td>961</td>\n",
              "      <td>756</td>\n",
              "      <td>0</td>\n",
              "      <td>1717</td>\n",
              "      <td>1</td>\n",
              "      <td>0</td>\n",
              "      <td>1</td>\n",
              "      <td>0</td>\n",
              "      <td>3</td>\n",
              "      <td>1</td>\n",
              "      <td>Gd</td>\n",
              "      <td>7</td>\n",
              "      <td>Typ</td>\n",
              "      <td>1</td>\n",
              "      <td>Gd</td>\n",
              "      <td>Detchd</td>\n",
              "      <td>1998.0</td>\n",
              "      <td>Unf</td>\n",
              "      <td>3</td>\n",
              "      <td>642</td>\n",
              "      <td>TA</td>\n",
              "      <td>TA</td>\n",
              "      <td>Y</td>\n",
              "      <td>0</td>\n",
              "      <td>35</td>\n",
              "      <td>272</td>\n",
              "      <td>0</td>\n",
              "      <td>0</td>\n",
              "      <td>0</td>\n",
              "      <td>NaN</td>\n",
              "      <td>NaN</td>\n",
              "      <td>NaN</td>\n",
              "      <td>0</td>\n",
              "      <td>2</td>\n",
              "      <td>2006</td>\n",
              "      <td>WD</td>\n",
              "      <td>Abnorml</td>\n",
              "      <td>140000</td>\n",
              "    </tr>\n",
              "    <tr>\n",
              "      <th>4</th>\n",
              "      <td>5</td>\n",
              "      <td>60</td>\n",
              "      <td>RL</td>\n",
              "      <td>84.0</td>\n",
              "      <td>14260</td>\n",
              "      <td>Pave</td>\n",
              "      <td>NaN</td>\n",
              "      <td>IR1</td>\n",
              "      <td>Lvl</td>\n",
              "      <td>AllPub</td>\n",
              "      <td>FR2</td>\n",
              "      <td>Gtl</td>\n",
              "      <td>NoRidge</td>\n",
              "      <td>Norm</td>\n",
              "      <td>Norm</td>\n",
              "      <td>1Fam</td>\n",
              "      <td>2Story</td>\n",
              "      <td>8</td>\n",
              "      <td>5</td>\n",
              "      <td>2000</td>\n",
              "      <td>2000</td>\n",
              "      <td>Gable</td>\n",
              "      <td>CompShg</td>\n",
              "      <td>VinylSd</td>\n",
              "      <td>VinylSd</td>\n",
              "      <td>BrkFace</td>\n",
              "      <td>350.0</td>\n",
              "      <td>Gd</td>\n",
              "      <td>TA</td>\n",
              "      <td>PConc</td>\n",
              "      <td>Gd</td>\n",
              "      <td>TA</td>\n",
              "      <td>Av</td>\n",
              "      <td>GLQ</td>\n",
              "      <td>655</td>\n",
              "      <td>Unf</td>\n",
              "      <td>0</td>\n",
              "      <td>490</td>\n",
              "      <td>1145</td>\n",
              "      <td>GasA</td>\n",
              "      <td>...</td>\n",
              "      <td>Y</td>\n",
              "      <td>SBrkr</td>\n",
              "      <td>1145</td>\n",
              "      <td>1053</td>\n",
              "      <td>0</td>\n",
              "      <td>2198</td>\n",
              "      <td>1</td>\n",
              "      <td>0</td>\n",
              "      <td>2</td>\n",
              "      <td>1</td>\n",
              "      <td>4</td>\n",
              "      <td>1</td>\n",
              "      <td>Gd</td>\n",
              "      <td>9</td>\n",
              "      <td>Typ</td>\n",
              "      <td>1</td>\n",
              "      <td>TA</td>\n",
              "      <td>Attchd</td>\n",
              "      <td>2000.0</td>\n",
              "      <td>RFn</td>\n",
              "      <td>3</td>\n",
              "      <td>836</td>\n",
              "      <td>TA</td>\n",
              "      <td>TA</td>\n",
              "      <td>Y</td>\n",
              "      <td>192</td>\n",
              "      <td>84</td>\n",
              "      <td>0</td>\n",
              "      <td>0</td>\n",
              "      <td>0</td>\n",
              "      <td>0</td>\n",
              "      <td>NaN</td>\n",
              "      <td>NaN</td>\n",
              "      <td>NaN</td>\n",
              "      <td>0</td>\n",
              "      <td>12</td>\n",
              "      <td>2008</td>\n",
              "      <td>WD</td>\n",
              "      <td>Normal</td>\n",
              "      <td>250000</td>\n",
              "    </tr>\n",
              "  </tbody>\n",
              "</table>\n",
              "<p>5 rows × 81 columns</p>\n",
              "</div>"
            ],
            "text/plain": [
              "   Id  MSSubClass MSZoning  ...  SaleType  SaleCondition SalePrice\n",
              "0   1          60       RL  ...        WD         Normal    208500\n",
              "1   2          20       RL  ...        WD         Normal    181500\n",
              "2   3          60       RL  ...        WD         Normal    223500\n",
              "3   4          70       RL  ...        WD        Abnorml    140000\n",
              "4   5          60       RL  ...        WD         Normal    250000\n",
              "\n",
              "[5 rows x 81 columns]"
            ]
          },
          "metadata": {
            "tags": []
          },
          "execution_count": 3
        }
      ]
    },
    {
      "cell_type": "markdown",
      "metadata": {
        "id": "F0TDTuYx27XW"
      },
      "source": [
        "The function \"shape\" returns the shape of an array. The shape is a tuple of integers."
      ]
    },
    {
      "cell_type": "code",
      "metadata": {
        "colab": {
          "base_uri": "https://localhost:8080/"
        },
        "id": "tnoPIa7kTRaL",
        "outputId": "af051056-df9e-4486-c7df-089b4f7714f5"
      },
      "source": [
        "df1.shape"
      ],
      "execution_count": 4,
      "outputs": [
        {
          "output_type": "execute_result",
          "data": {
            "text/plain": [
              "(1460, 81)"
            ]
          },
          "metadata": {
            "tags": []
          },
          "execution_count": 4
        }
      ]
    },
    {
      "cell_type": "markdown",
      "metadata": {
        "id": "cz8aP3zY3Kk8"
      },
      "source": [
        "columns attribute to return the column labels of the given dataframe."
      ]
    },
    {
      "cell_type": "code",
      "metadata": {
        "colab": {
          "base_uri": "https://localhost:8080/"
        },
        "id": "I8cBmHPQaHLR",
        "outputId": "b617378b-4bb7-46f2-c53c-a36113afe5a0"
      },
      "source": [
        "df1.columns"
      ],
      "execution_count": 5,
      "outputs": [
        {
          "output_type": "execute_result",
          "data": {
            "text/plain": [
              "Index(['Id', 'MSSubClass', 'MSZoning', 'LotFrontage', 'LotArea', 'Street',\n",
              "       'Alley', 'LotShape', 'LandContour', 'Utilities', 'LotConfig',\n",
              "       'LandSlope', 'Neighborhood', 'Condition1', 'Condition2', 'BldgType',\n",
              "       'HouseStyle', 'OverallQual', 'OverallCond', 'YearBuilt', 'YearRemodAdd',\n",
              "       'RoofStyle', 'RoofMatl', 'Exterior1st', 'Exterior2nd', 'MasVnrType',\n",
              "       'MasVnrArea', 'ExterQual', 'ExterCond', 'Foundation', 'BsmtQual',\n",
              "       'BsmtCond', 'BsmtExposure', 'BsmtFinType1', 'BsmtFinSF1',\n",
              "       'BsmtFinType2', 'BsmtFinSF2', 'BsmtUnfSF', 'TotalBsmtSF', 'Heating',\n",
              "       'HeatingQC', 'CentralAir', 'Electrical', '1stFlrSF', '2ndFlrSF',\n",
              "       'LowQualFinSF', 'GrLivArea', 'BsmtFullBath', 'BsmtHalfBath', 'FullBath',\n",
              "       'HalfBath', 'BedroomAbvGr', 'KitchenAbvGr', 'KitchenQual',\n",
              "       'TotRmsAbvGrd', 'Functional', 'Fireplaces', 'FireplaceQu', 'GarageType',\n",
              "       'GarageYrBlt', 'GarageFinish', 'GarageCars', 'GarageArea', 'GarageQual',\n",
              "       'GarageCond', 'PavedDrive', 'WoodDeckSF', 'OpenPorchSF',\n",
              "       'EnclosedPorch', '3SsnPorch', 'ScreenPorch', 'PoolArea', 'PoolQC',\n",
              "       'Fence', 'MiscFeature', 'MiscVal', 'MoSold', 'YrSold', 'SaleType',\n",
              "       'SaleCondition', 'SalePrice'],\n",
              "      dtype='object')"
            ]
          },
          "metadata": {
            "tags": []
          },
          "execution_count": 5
        }
      ]
    },
    {
      "cell_type": "code",
      "metadata": {
        "colab": {
          "base_uri": "https://localhost:8080/",
          "height": 304
        },
        "id": "24Ez3Gfre0KC",
        "outputId": "8a3e52c6-f6ad-4b54-aa71-f73785c2068f"
      },
      "source": [
        "df1.describe()"
      ],
      "execution_count": 6,
      "outputs": [
        {
          "output_type": "execute_result",
          "data": {
            "text/html": [
              "<div>\n",
              "<style scoped>\n",
              "    .dataframe tbody tr th:only-of-type {\n",
              "        vertical-align: middle;\n",
              "    }\n",
              "\n",
              "    .dataframe tbody tr th {\n",
              "        vertical-align: top;\n",
              "    }\n",
              "\n",
              "    .dataframe thead th {\n",
              "        text-align: right;\n",
              "    }\n",
              "</style>\n",
              "<table border=\"1\" class=\"dataframe\">\n",
              "  <thead>\n",
              "    <tr style=\"text-align: right;\">\n",
              "      <th></th>\n",
              "      <th>Id</th>\n",
              "      <th>MSSubClass</th>\n",
              "      <th>LotFrontage</th>\n",
              "      <th>LotArea</th>\n",
              "      <th>OverallQual</th>\n",
              "      <th>OverallCond</th>\n",
              "      <th>YearBuilt</th>\n",
              "      <th>YearRemodAdd</th>\n",
              "      <th>MasVnrArea</th>\n",
              "      <th>BsmtFinSF1</th>\n",
              "      <th>BsmtFinSF2</th>\n",
              "      <th>BsmtUnfSF</th>\n",
              "      <th>TotalBsmtSF</th>\n",
              "      <th>1stFlrSF</th>\n",
              "      <th>2ndFlrSF</th>\n",
              "      <th>LowQualFinSF</th>\n",
              "      <th>GrLivArea</th>\n",
              "      <th>BsmtFullBath</th>\n",
              "      <th>BsmtHalfBath</th>\n",
              "      <th>FullBath</th>\n",
              "      <th>HalfBath</th>\n",
              "      <th>BedroomAbvGr</th>\n",
              "      <th>KitchenAbvGr</th>\n",
              "      <th>TotRmsAbvGrd</th>\n",
              "      <th>Fireplaces</th>\n",
              "      <th>GarageYrBlt</th>\n",
              "      <th>GarageCars</th>\n",
              "      <th>GarageArea</th>\n",
              "      <th>WoodDeckSF</th>\n",
              "      <th>OpenPorchSF</th>\n",
              "      <th>EnclosedPorch</th>\n",
              "      <th>3SsnPorch</th>\n",
              "      <th>ScreenPorch</th>\n",
              "      <th>PoolArea</th>\n",
              "      <th>MiscVal</th>\n",
              "      <th>MoSold</th>\n",
              "      <th>YrSold</th>\n",
              "      <th>SalePrice</th>\n",
              "    </tr>\n",
              "  </thead>\n",
              "  <tbody>\n",
              "    <tr>\n",
              "      <th>count</th>\n",
              "      <td>1460.000000</td>\n",
              "      <td>1460.000000</td>\n",
              "      <td>1201.000000</td>\n",
              "      <td>1460.000000</td>\n",
              "      <td>1460.000000</td>\n",
              "      <td>1460.000000</td>\n",
              "      <td>1460.000000</td>\n",
              "      <td>1460.000000</td>\n",
              "      <td>1452.000000</td>\n",
              "      <td>1460.000000</td>\n",
              "      <td>1460.000000</td>\n",
              "      <td>1460.000000</td>\n",
              "      <td>1460.000000</td>\n",
              "      <td>1460.000000</td>\n",
              "      <td>1460.000000</td>\n",
              "      <td>1460.000000</td>\n",
              "      <td>1460.000000</td>\n",
              "      <td>1460.000000</td>\n",
              "      <td>1460.000000</td>\n",
              "      <td>1460.000000</td>\n",
              "      <td>1460.000000</td>\n",
              "      <td>1460.000000</td>\n",
              "      <td>1460.000000</td>\n",
              "      <td>1460.000000</td>\n",
              "      <td>1460.000000</td>\n",
              "      <td>1379.000000</td>\n",
              "      <td>1460.000000</td>\n",
              "      <td>1460.000000</td>\n",
              "      <td>1460.000000</td>\n",
              "      <td>1460.000000</td>\n",
              "      <td>1460.000000</td>\n",
              "      <td>1460.000000</td>\n",
              "      <td>1460.000000</td>\n",
              "      <td>1460.000000</td>\n",
              "      <td>1460.000000</td>\n",
              "      <td>1460.000000</td>\n",
              "      <td>1460.000000</td>\n",
              "      <td>1460.000000</td>\n",
              "    </tr>\n",
              "    <tr>\n",
              "      <th>mean</th>\n",
              "      <td>730.500000</td>\n",
              "      <td>56.897260</td>\n",
              "      <td>70.049958</td>\n",
              "      <td>10516.828082</td>\n",
              "      <td>6.099315</td>\n",
              "      <td>5.575342</td>\n",
              "      <td>1971.267808</td>\n",
              "      <td>1984.865753</td>\n",
              "      <td>103.685262</td>\n",
              "      <td>443.639726</td>\n",
              "      <td>46.549315</td>\n",
              "      <td>567.240411</td>\n",
              "      <td>1057.429452</td>\n",
              "      <td>1162.626712</td>\n",
              "      <td>346.992466</td>\n",
              "      <td>5.844521</td>\n",
              "      <td>1515.463699</td>\n",
              "      <td>0.425342</td>\n",
              "      <td>0.057534</td>\n",
              "      <td>1.565068</td>\n",
              "      <td>0.382877</td>\n",
              "      <td>2.866438</td>\n",
              "      <td>1.046575</td>\n",
              "      <td>6.517808</td>\n",
              "      <td>0.613014</td>\n",
              "      <td>1978.506164</td>\n",
              "      <td>1.767123</td>\n",
              "      <td>472.980137</td>\n",
              "      <td>94.244521</td>\n",
              "      <td>46.660274</td>\n",
              "      <td>21.954110</td>\n",
              "      <td>3.409589</td>\n",
              "      <td>15.060959</td>\n",
              "      <td>2.758904</td>\n",
              "      <td>43.489041</td>\n",
              "      <td>6.321918</td>\n",
              "      <td>2007.815753</td>\n",
              "      <td>180921.195890</td>\n",
              "    </tr>\n",
              "    <tr>\n",
              "      <th>std</th>\n",
              "      <td>421.610009</td>\n",
              "      <td>42.300571</td>\n",
              "      <td>24.284752</td>\n",
              "      <td>9981.264932</td>\n",
              "      <td>1.382997</td>\n",
              "      <td>1.112799</td>\n",
              "      <td>30.202904</td>\n",
              "      <td>20.645407</td>\n",
              "      <td>181.066207</td>\n",
              "      <td>456.098091</td>\n",
              "      <td>161.319273</td>\n",
              "      <td>441.866955</td>\n",
              "      <td>438.705324</td>\n",
              "      <td>386.587738</td>\n",
              "      <td>436.528436</td>\n",
              "      <td>48.623081</td>\n",
              "      <td>525.480383</td>\n",
              "      <td>0.518911</td>\n",
              "      <td>0.238753</td>\n",
              "      <td>0.550916</td>\n",
              "      <td>0.502885</td>\n",
              "      <td>0.815778</td>\n",
              "      <td>0.220338</td>\n",
              "      <td>1.625393</td>\n",
              "      <td>0.644666</td>\n",
              "      <td>24.689725</td>\n",
              "      <td>0.747315</td>\n",
              "      <td>213.804841</td>\n",
              "      <td>125.338794</td>\n",
              "      <td>66.256028</td>\n",
              "      <td>61.119149</td>\n",
              "      <td>29.317331</td>\n",
              "      <td>55.757415</td>\n",
              "      <td>40.177307</td>\n",
              "      <td>496.123024</td>\n",
              "      <td>2.703626</td>\n",
              "      <td>1.328095</td>\n",
              "      <td>79442.502883</td>\n",
              "    </tr>\n",
              "    <tr>\n",
              "      <th>min</th>\n",
              "      <td>1.000000</td>\n",
              "      <td>20.000000</td>\n",
              "      <td>21.000000</td>\n",
              "      <td>1300.000000</td>\n",
              "      <td>1.000000</td>\n",
              "      <td>1.000000</td>\n",
              "      <td>1872.000000</td>\n",
              "      <td>1950.000000</td>\n",
              "      <td>0.000000</td>\n",
              "      <td>0.000000</td>\n",
              "      <td>0.000000</td>\n",
              "      <td>0.000000</td>\n",
              "      <td>0.000000</td>\n",
              "      <td>334.000000</td>\n",
              "      <td>0.000000</td>\n",
              "      <td>0.000000</td>\n",
              "      <td>334.000000</td>\n",
              "      <td>0.000000</td>\n",
              "      <td>0.000000</td>\n",
              "      <td>0.000000</td>\n",
              "      <td>0.000000</td>\n",
              "      <td>0.000000</td>\n",
              "      <td>0.000000</td>\n",
              "      <td>2.000000</td>\n",
              "      <td>0.000000</td>\n",
              "      <td>1900.000000</td>\n",
              "      <td>0.000000</td>\n",
              "      <td>0.000000</td>\n",
              "      <td>0.000000</td>\n",
              "      <td>0.000000</td>\n",
              "      <td>0.000000</td>\n",
              "      <td>0.000000</td>\n",
              "      <td>0.000000</td>\n",
              "      <td>0.000000</td>\n",
              "      <td>0.000000</td>\n",
              "      <td>1.000000</td>\n",
              "      <td>2006.000000</td>\n",
              "      <td>34900.000000</td>\n",
              "    </tr>\n",
              "    <tr>\n",
              "      <th>25%</th>\n",
              "      <td>365.750000</td>\n",
              "      <td>20.000000</td>\n",
              "      <td>59.000000</td>\n",
              "      <td>7553.500000</td>\n",
              "      <td>5.000000</td>\n",
              "      <td>5.000000</td>\n",
              "      <td>1954.000000</td>\n",
              "      <td>1967.000000</td>\n",
              "      <td>0.000000</td>\n",
              "      <td>0.000000</td>\n",
              "      <td>0.000000</td>\n",
              "      <td>223.000000</td>\n",
              "      <td>795.750000</td>\n",
              "      <td>882.000000</td>\n",
              "      <td>0.000000</td>\n",
              "      <td>0.000000</td>\n",
              "      <td>1129.500000</td>\n",
              "      <td>0.000000</td>\n",
              "      <td>0.000000</td>\n",
              "      <td>1.000000</td>\n",
              "      <td>0.000000</td>\n",
              "      <td>2.000000</td>\n",
              "      <td>1.000000</td>\n",
              "      <td>5.000000</td>\n",
              "      <td>0.000000</td>\n",
              "      <td>1961.000000</td>\n",
              "      <td>1.000000</td>\n",
              "      <td>334.500000</td>\n",
              "      <td>0.000000</td>\n",
              "      <td>0.000000</td>\n",
              "      <td>0.000000</td>\n",
              "      <td>0.000000</td>\n",
              "      <td>0.000000</td>\n",
              "      <td>0.000000</td>\n",
              "      <td>0.000000</td>\n",
              "      <td>5.000000</td>\n",
              "      <td>2007.000000</td>\n",
              "      <td>129975.000000</td>\n",
              "    </tr>\n",
              "    <tr>\n",
              "      <th>50%</th>\n",
              "      <td>730.500000</td>\n",
              "      <td>50.000000</td>\n",
              "      <td>69.000000</td>\n",
              "      <td>9478.500000</td>\n",
              "      <td>6.000000</td>\n",
              "      <td>5.000000</td>\n",
              "      <td>1973.000000</td>\n",
              "      <td>1994.000000</td>\n",
              "      <td>0.000000</td>\n",
              "      <td>383.500000</td>\n",
              "      <td>0.000000</td>\n",
              "      <td>477.500000</td>\n",
              "      <td>991.500000</td>\n",
              "      <td>1087.000000</td>\n",
              "      <td>0.000000</td>\n",
              "      <td>0.000000</td>\n",
              "      <td>1464.000000</td>\n",
              "      <td>0.000000</td>\n",
              "      <td>0.000000</td>\n",
              "      <td>2.000000</td>\n",
              "      <td>0.000000</td>\n",
              "      <td>3.000000</td>\n",
              "      <td>1.000000</td>\n",
              "      <td>6.000000</td>\n",
              "      <td>1.000000</td>\n",
              "      <td>1980.000000</td>\n",
              "      <td>2.000000</td>\n",
              "      <td>480.000000</td>\n",
              "      <td>0.000000</td>\n",
              "      <td>25.000000</td>\n",
              "      <td>0.000000</td>\n",
              "      <td>0.000000</td>\n",
              "      <td>0.000000</td>\n",
              "      <td>0.000000</td>\n",
              "      <td>0.000000</td>\n",
              "      <td>6.000000</td>\n",
              "      <td>2008.000000</td>\n",
              "      <td>163000.000000</td>\n",
              "    </tr>\n",
              "    <tr>\n",
              "      <th>75%</th>\n",
              "      <td>1095.250000</td>\n",
              "      <td>70.000000</td>\n",
              "      <td>80.000000</td>\n",
              "      <td>11601.500000</td>\n",
              "      <td>7.000000</td>\n",
              "      <td>6.000000</td>\n",
              "      <td>2000.000000</td>\n",
              "      <td>2004.000000</td>\n",
              "      <td>166.000000</td>\n",
              "      <td>712.250000</td>\n",
              "      <td>0.000000</td>\n",
              "      <td>808.000000</td>\n",
              "      <td>1298.250000</td>\n",
              "      <td>1391.250000</td>\n",
              "      <td>728.000000</td>\n",
              "      <td>0.000000</td>\n",
              "      <td>1776.750000</td>\n",
              "      <td>1.000000</td>\n",
              "      <td>0.000000</td>\n",
              "      <td>2.000000</td>\n",
              "      <td>1.000000</td>\n",
              "      <td>3.000000</td>\n",
              "      <td>1.000000</td>\n",
              "      <td>7.000000</td>\n",
              "      <td>1.000000</td>\n",
              "      <td>2002.000000</td>\n",
              "      <td>2.000000</td>\n",
              "      <td>576.000000</td>\n",
              "      <td>168.000000</td>\n",
              "      <td>68.000000</td>\n",
              "      <td>0.000000</td>\n",
              "      <td>0.000000</td>\n",
              "      <td>0.000000</td>\n",
              "      <td>0.000000</td>\n",
              "      <td>0.000000</td>\n",
              "      <td>8.000000</td>\n",
              "      <td>2009.000000</td>\n",
              "      <td>214000.000000</td>\n",
              "    </tr>\n",
              "    <tr>\n",
              "      <th>max</th>\n",
              "      <td>1460.000000</td>\n",
              "      <td>190.000000</td>\n",
              "      <td>313.000000</td>\n",
              "      <td>215245.000000</td>\n",
              "      <td>10.000000</td>\n",
              "      <td>9.000000</td>\n",
              "      <td>2010.000000</td>\n",
              "      <td>2010.000000</td>\n",
              "      <td>1600.000000</td>\n",
              "      <td>5644.000000</td>\n",
              "      <td>1474.000000</td>\n",
              "      <td>2336.000000</td>\n",
              "      <td>6110.000000</td>\n",
              "      <td>4692.000000</td>\n",
              "      <td>2065.000000</td>\n",
              "      <td>572.000000</td>\n",
              "      <td>5642.000000</td>\n",
              "      <td>3.000000</td>\n",
              "      <td>2.000000</td>\n",
              "      <td>3.000000</td>\n",
              "      <td>2.000000</td>\n",
              "      <td>8.000000</td>\n",
              "      <td>3.000000</td>\n",
              "      <td>14.000000</td>\n",
              "      <td>3.000000</td>\n",
              "      <td>2010.000000</td>\n",
              "      <td>4.000000</td>\n",
              "      <td>1418.000000</td>\n",
              "      <td>857.000000</td>\n",
              "      <td>547.000000</td>\n",
              "      <td>552.000000</td>\n",
              "      <td>508.000000</td>\n",
              "      <td>480.000000</td>\n",
              "      <td>738.000000</td>\n",
              "      <td>15500.000000</td>\n",
              "      <td>12.000000</td>\n",
              "      <td>2010.000000</td>\n",
              "      <td>755000.000000</td>\n",
              "    </tr>\n",
              "  </tbody>\n",
              "</table>\n",
              "</div>"
            ],
            "text/plain": [
              "                Id   MSSubClass  ...       YrSold      SalePrice\n",
              "count  1460.000000  1460.000000  ...  1460.000000    1460.000000\n",
              "mean    730.500000    56.897260  ...  2007.815753  180921.195890\n",
              "std     421.610009    42.300571  ...     1.328095   79442.502883\n",
              "min       1.000000    20.000000  ...  2006.000000   34900.000000\n",
              "25%     365.750000    20.000000  ...  2007.000000  129975.000000\n",
              "50%     730.500000    50.000000  ...  2008.000000  163000.000000\n",
              "75%    1095.250000    70.000000  ...  2009.000000  214000.000000\n",
              "max    1460.000000   190.000000  ...  2010.000000  755000.000000\n",
              "\n",
              "[8 rows x 38 columns]"
            ]
          },
          "metadata": {
            "tags": []
          },
          "execution_count": 6
        }
      ]
    },
    {
      "cell_type": "markdown",
      "metadata": {
        "id": "3uhZm-Yv36zJ"
      },
      "source": [
        "Pandas describe() is used to view some basic statistical details like percentile, mean, std etc. of a data frame or a series of numeric values.\n",
        "It gives us more insight into the data."
      ]
    },
    {
      "cell_type": "code",
      "metadata": {
        "colab": {
          "base_uri": "https://localhost:8080/",
          "height": 398
        },
        "id": "1k5C6uP-fPuH",
        "outputId": "7e348b83-8297-42a4-b1a5-bbf4422fc1fc"
      },
      "source": [
        "#Visualizing the distribution in the SalePrice feature using the sns.distplot() function in Seaborn:\n",
        "sns.distplot(df1['SalePrice'])\n",
        "plt.xticks(rotation = 30)\n",
        "#We can see that the a lot of saleprices are clustered between the range 100000 and 200000.\n",
        "#But due to some high sale prices the data is not centered around a point.\n",
        "#We see that there is no symmetry present in the data and this asymmetry is called Skewness. \n",
        "#Here we can see that the graph is positively skewed. \n"
      ],
      "execution_count": 7,
      "outputs": [
        {
          "output_type": "stream",
          "text": [
            "/usr/local/lib/python3.7/dist-packages/seaborn/distributions.py:2557: FutureWarning: `distplot` is a deprecated function and will be removed in a future version. Please adapt your code to use either `displot` (a figure-level function with similar flexibility) or `histplot` (an axes-level function for histograms).\n",
            "  warnings.warn(msg, FutureWarning)\n"
          ],
          "name": "stderr"
        },
        {
          "output_type": "execute_result",
          "data": {
            "text/plain": [
              "(array([-200000.,       0.,  200000.,  400000.,  600000.,  800000.,\n",
              "        1000000.]), <a list of 7 Text major ticklabel objects>)"
            ]
          },
          "metadata": {
            "tags": []
          },
          "execution_count": 7
        },
        {
          "output_type": "display_data",
          "data": {
            "image/png": "[encoded data removed]",
            "text/plain": [
              "<Figure size 432x288 with 1 Axes>"
            ]
          },
          "metadata": {
            "tags": [],
            "needs_background": "light"
          }
        }
      ]
    },
    {
      "cell_type": "code",
      "metadata": {
        "colab": {
          "base_uri": "https://localhost:8080/"
        },
        "id": "GbdcuTAPvvkq",
        "outputId": "df6dbc2b-d7c2-4472-ed63-460050de5243"
      },
      "source": [
        "#We can also see the skewness in the data explicitly by using Dataframe.skew()\n",
        "df1['SalePrice'].skew()\n",
        "#Positive number tells us that it is positively skewed."
      ],
      "execution_count": 8,
      "outputs": [
        {
          "output_type": "execute_result",
          "data": {
            "text/plain": [
              "1.8828757597682129"
            ]
          },
          "metadata": {
            "tags": []
          },
          "execution_count": 8
        }
      ]
    },
    {
      "cell_type": "markdown",
      "metadata": {
        "id": "qWgzwDdjvvks"
      },
      "source": [
        "Using heatmap to check correlation between the fields."
      ]
    },
    {
      "cell_type": "code",
      "metadata": {
        "colab": {
          "base_uri": "https://localhost:8080/",
          "height": 766
        },
        "id": "TQPesePivvkt",
        "outputId": "e4c7c7cc-f143-4215-83b9-b4d73c6d87cb"
      },
      "source": [
        "correlation = df1.corr()\n",
        "plt.figure(figsize=(15,12))\n",
        "sns.heatmap(correlation, vmax = 0.9, square =True)\n",
        "plt.show()"
      ],
      "execution_count": 9,
      "outputs": [
        {
          "output_type": "display_data",
          "data": {
            "image/png": "[encoded data removed]",
            "text/plain": [
              "<Figure size 1080x864 with 2 Axes>"
            ]
          },
          "metadata": {
            "tags": [],
            "needs_background": "light"
          }
        }
      ]
    },
    {
      "cell_type": "markdown",
      "metadata": {
        "id": "48Og8pPMvvku"
      },
      "source": [
        "Few features that standout in this heatmap:\n",
        "\n",
        "1.)1stFlrSF and TotalBsmtSF\n",
        "\n",
        "2.)TotRmsAbvGrd and GrLivArea\n",
        "\n",
        "3.)GarageYrBlt and YearBuilt\n",
        "\n",
        "4.)GarageArea and GarageCars\n",
        "\n",
        "5.)SalePrice and OverallQual"
      ]
    },
    {
      "cell_type": "markdown",
      "metadata": {
        "id": "hh6Sc7b3vvkv"
      },
      "source": [
        "Plotting the above features to understand the relation between them:"
      ]
    },
    {
      "cell_type": "markdown",
      "metadata": {
        "id": "_tZWjxbUvvkw"
      },
      "source": [
        "1stFlrSF and TotalBsmtSF"
      ]
    },
    {
      "cell_type": "code",
      "metadata": {
        "colab": {
          "base_uri": "https://localhost:8080/",
          "height": 282
        },
        "id": "5xBr5Scnvvkx",
        "outputId": "d6a2f0e4-8322-473e-f4cb-a367162daa63"
      },
      "source": [
        "plt.scatter(x = df1['1stFlrSF'], y = df1['TotalBsmtSF'])\n",
        "plt.xlabel('First Floor Square Feet')\n",
        "plt.ylabel('Total Square Feet of Basement Area')\n",
        "plt.show()"
      ],
      "execution_count": 10,
      "outputs": [
        {
          "output_type": "display_data",
          "data": {
            "image/png": "[encoded data removed]",
            "text/plain": [
              "<Figure size 432x288 with 1 Axes>"
            ]
          },
          "metadata": {
            "tags": [],
            "needs_background": "light"
          }
        }
      ]
    },
    {
      "cell_type": "markdown",
      "metadata": {
        "id": "zUhPvka6vvky"
      },
      "source": [
        "We can see that there is a linear relation between and most of the data point lie below that line. From this we infer that the basement area is either equal to or less than the area of first floor."
      ]
    },
    {
      "cell_type": "markdown",
      "metadata": {
        "id": "riuYcfitvvky"
      },
      "source": [
        "TotRmsAbvGrd and GrLivArea"
      ]
    },
    {
      "cell_type": "code",
      "metadata": {
        "colab": {
          "base_uri": "https://localhost:8080/",
          "height": 286
        },
        "id": "PbMLNvF_vvkz",
        "outputId": "b769de21-00fa-4de0-e04b-af0e558a77a6"
      },
      "source": [
        "plt.scatter(x = df1['TotRmsAbvGrd'], y = df1['GrLivArea'])\n",
        "plt.xlabel('Total rooms above ground(excluding bathrooms)')\n",
        "plt.ylabel('Above ground living area square feet')\n",
        "plt.show()"
      ],
      "execution_count": 11,
      "outputs": [
        {
          "output_type": "display_data",
          "data": {
            "image/png": "[encoded data removed]",
            "text/plain": [
              "<Figure size 432x288 with 1 Axes>"
            ]
          },
          "metadata": {
            "tags": [],
            "needs_background": "light"
          }
        }
      ]
    },
    {
      "cell_type": "markdown",
      "metadata": {
        "id": "zUNIV_UBvvk0"
      },
      "source": [
        "The number of total rooms increase as the above ground living area increases"
      ]
    },
    {
      "cell_type": "markdown",
      "metadata": {
        "id": "Ga6-FP-svvk1"
      },
      "source": [
        "GarageYrBuilt and YearBlt"
      ]
    },
    {
      "cell_type": "code",
      "metadata": {
        "colab": {
          "base_uri": "https://localhost:8080/",
          "height": 282
        },
        "id": "dBS72Z7bvvk1",
        "outputId": "3d4e972a-0cb4-403e-fa40-58c053b18311"
      },
      "source": [
        "plt.scatter(x = df1['GarageYrBlt'], y = df1['YearBuilt'])\n",
        "plt.xlabel('Year garage was built')\n",
        "plt.ylabel('Original construction date')\n",
        "plt.show()\n"
      ],
      "execution_count": 12,
      "outputs": [
        {
          "output_type": "display_data",
          "data": {
            "image/png": "[encoded data removed]",
            "text/plain": [
              "<Figure size 432x288 with 1 Axes>"
            ]
          },
          "metadata": {
            "tags": [],
            "needs_background": "light"
          }
        }
      ]
    },
    {
      "cell_type": "markdown",
      "metadata": {
        "id": "_IWN-CoDvvk2"
      },
      "source": [
        "We can see a linear relation between GarageYrBlt and YearBuilt and the majority of data points lies below the line. We can infer that the garages were either built along with the house or later on."
      ]
    },
    {
      "cell_type": "markdown",
      "metadata": {
        "id": "tckDoMi0vvk3"
      },
      "source": [
        "GarageArea and GarageCars"
      ]
    },
    {
      "cell_type": "code",
      "metadata": {
        "colab": {
          "base_uri": "https://localhost:8080/",
          "height": 282
        },
        "id": "Q-PwJKRZvvk3",
        "outputId": "1b2f2b12-cb1b-439f-f085-702655cef66a"
      },
      "source": [
        "plt.scatter(x = df1['GarageCars'], y = df1['GarageArea'])\n",
        "plt.xlabel('Size of garage in car capacities')\n",
        "plt.ylabel('Size of garage in sq. ft.')\n",
        "plt.show()\n"
      ],
      "execution_count": 13,
      "outputs": [
        {
          "output_type": "display_data",
          "data": {
            "image/png": "[encoded data removed]",
            "text/plain": [
              "<Figure size 432x288 with 1 Axes>"
            ]
          },
          "metadata": {
            "tags": [],
            "needs_background": "light"
          }
        }
      ]
    },
    {
      "cell_type": "markdown",
      "metadata": {
        "id": "LcQq-HKZvvk4"
      },
      "source": [
        "The number of cars that can fit in a garage would increase with its area. \n",
        "\n"
      ]
    },
    {
      "cell_type": "markdown",
      "metadata": {
        "id": "tAv8HI97vvk5"
      },
      "source": [
        "SalePrice and OverallQual"
      ]
    },
    {
      "cell_type": "code",
      "metadata": {
        "colab": {
          "base_uri": "https://localhost:8080/",
          "height": 282
        },
        "id": "dXvWvsaRvvk5",
        "outputId": "cc2ca7d8-94c0-411d-f5d5-c8109533cbe5"
      },
      "source": [
        "plt.scatter(x = df1['OverallQual'], y = df1['SalePrice'])\n",
        "plt.xlabel('Rates the overall material and finish of the house')\n",
        "plt.ylabel('SalePrice')\n",
        "plt.show()"
      ],
      "execution_count": 14,
      "outputs": [
        {
          "output_type": "display_data",
          "data": {
            "image/png": "[encoded data removed]",
            "text/plain": [
              "<Figure size 432x288 with 1 Axes>"
            ]
          },
          "metadata": {
            "tags": [],
            "needs_background": "light"
          }
        }
      ]
    },
    {
      "cell_type": "markdown",
      "metadata": {
        "id": "kNcTrgTevvk7"
      },
      "source": [
        "For high sale price of houses the Overall Qual is high. Very few houses have Overall Quality less than 4. A lot of houses lie between the range of 500000 and 300000. Majority of houses have Overall Quality in the range of 6 to 8."
      ]
    },
    {
      "cell_type": "markdown",
      "metadata": {
        "id": "jq2lJk5t4XGa"
      },
      "source": [
        "select_dtypes() function return a subset of the DataFrame's columns based on the column dtypes. The parameters of this function can be set to include all the columns having some specific data type or it could be set to exclude all those columns which has some specific data types."
      ]
    },
    {
      "cell_type": "code",
      "metadata": {
        "colab": {
          "base_uri": "https://localhost:8080/"
        },
        "id": "-ek9ty0-BF_N",
        "outputId": "2b3d3443-f83c-4761-914a-2ecb56471846"
      },
      "source": [
        "numeric_features = df1.select_dtypes(include=[np.number])\n",
        "numeric_features.dtypes\n"
      ],
      "execution_count": 15,
      "outputs": [
        {
          "output_type": "execute_result",
          "data": {
            "text/plain": [
              "Id                 int64\n",
              "MSSubClass         int64\n",
              "LotFrontage      float64\n",
              "LotArea            int64\n",
              "OverallQual        int64\n",
              "OverallCond        int64\n",
              "YearBuilt          int64\n",
              "YearRemodAdd       int64\n",
              "MasVnrArea       float64\n",
              "BsmtFinSF1         int64\n",
              "BsmtFinSF2         int64\n",
              "BsmtUnfSF          int64\n",
              "TotalBsmtSF        int64\n",
              "1stFlrSF           int64\n",
              "2ndFlrSF           int64\n",
              "LowQualFinSF       int64\n",
              "GrLivArea          int64\n",
              "BsmtFullBath       int64\n",
              "BsmtHalfBath       int64\n",
              "FullBath           int64\n",
              "HalfBath           int64\n",
              "BedroomAbvGr       int64\n",
              "KitchenAbvGr       int64\n",
              "TotRmsAbvGrd       int64\n",
              "Fireplaces         int64\n",
              "GarageYrBlt      float64\n",
              "GarageCars         int64\n",
              "GarageArea         int64\n",
              "WoodDeckSF         int64\n",
              "OpenPorchSF        int64\n",
              "EnclosedPorch      int64\n",
              "3SsnPorch          int64\n",
              "ScreenPorch        int64\n",
              "PoolArea           int64\n",
              "MiscVal            int64\n",
              "MoSold             int64\n",
              "YrSold             int64\n",
              "SalePrice          int64\n",
              "dtype: object"
            ]
          },
          "metadata": {
            "tags": []
          },
          "execution_count": 15
        }
      ]
    },
    {
      "cell_type": "markdown",
      "metadata": {
        "id": "9bW0K6fZFNXL"
      },
      "source": [
        "The first 10 features are the most positively correlated with SalePrice, while the next 10 are the most negatively correlated.\n",
        "\n"
      ]
    },
    {
      "cell_type": "code",
      "metadata": {
        "colab": {
          "base_uri": "https://localhost:8080/"
        },
        "id": "GXRmXLA9_irj",
        "outputId": "e6a1cc20-53f5-4ecf-a6af-f808873f90d0"
      },
      "source": [
        "#Correlation (or relationship) between the columns\n",
        "corr = numeric_features.corr(method = 'pearson')\n",
        "corr_top = corr['SalePrice'].sort_values(ascending=False)[:10]\n",
        "top_features = corr_top.index[1:]\n",
        "print(corr_top,'\\n')\n",
        "\n",
        "print(corr['SalePrice'].sort_values(ascending=False)[-10:])"
      ],
      "execution_count": 16,
      "outputs": [
        {
          "output_type": "stream",
          "text": [
            "SalePrice       1.000000\n",
            "OverallQual     0.790982\n",
            "GrLivArea       0.708624\n",
            "GarageCars      0.640409\n",
            "GarageArea      0.623431\n",
            "TotalBsmtSF     0.613581\n",
            "1stFlrSF        0.605852\n",
            "FullBath        0.560664\n",
            "TotRmsAbvGrd    0.533723\n",
            "YearBuilt       0.522897\n",
            "Name: SalePrice, dtype: float64 \n",
            "\n",
            "BsmtFinSF2      -0.011378\n",
            "BsmtHalfBath    -0.016844\n",
            "MiscVal         -0.021190\n",
            "Id              -0.021917\n",
            "LowQualFinSF    -0.025606\n",
            "YrSold          -0.028923\n",
            "OverallCond     -0.077856\n",
            "MSSubClass      -0.084284\n",
            "EnclosedPorch   -0.128578\n",
            "KitchenAbvGr    -0.135907\n",
            "Name: SalePrice, dtype: float64\n"
          ],
          "name": "stdout"
        }
      ]
    },
    {
      "cell_type": "code",
      "metadata": {
        "colab": {
          "base_uri": "https://localhost:8080/"
        },
        "id": "1CrG52vJvvlH",
        "outputId": "fa1bb2ff-319f-485c-dec4-00e6cd0984ed"
      },
      "source": [
        "corr = numeric_features.corr(method = 'kendall')\n",
        "corr_top = corr['SalePrice'].sort_values(ascending=False)[:10]\n",
        "top_features = corr_top.index[1:]\n",
        "print(corr_top,'\\n')\n",
        "\n",
        "print(corr['SalePrice'].sort_values(ascending=False)[-10:])"
      ],
      "execution_count": 17,
      "outputs": [
        {
          "output_type": "stream",
          "text": [
            "SalePrice       1.000000\n",
            "OverallQual     0.669660\n",
            "GarageCars      0.572168\n",
            "GrLivArea       0.543942\n",
            "FullBath        0.518693\n",
            "GarageArea      0.478146\n",
            "YearBuilt       0.470960\n",
            "TotalBsmtSF     0.435018\n",
            "GarageYrBlt     0.420842\n",
            "YearRemodAdd    0.412955\n",
            "Name: SalePrice, dtype: float64 \n",
            "\n",
            "MSSubClass      -0.003979\n",
            "BsmtHalfBath    -0.009962\n",
            "Id              -0.012030\n",
            "YrSold          -0.021796\n",
            "BsmtFinSF2      -0.030710\n",
            "MiscVal         -0.050917\n",
            "LowQualFinSF    -0.055308\n",
            "OverallCond     -0.103492\n",
            "KitchenAbvGr    -0.134718\n",
            "EnclosedPorch   -0.172094\n",
            "Name: SalePrice, dtype: float64\n"
          ],
          "name": "stdout"
        }
      ]
    },
    {
      "cell_type": "markdown",
      "metadata": {
        "id": "Y7MeqardvvlI"
      },
      "source": [
        "Plotting the most correlated features with saleprice to understand the relation between them in a better way and also to see if outliers are present in these graphs or not."
      ]
    },
    {
      "cell_type": "code",
      "metadata": {
        "colab": {
          "base_uri": "https://localhost:8080/"
        },
        "id": "S1pBcJ9SvvlJ",
        "outputId": "ce8c4305-38ce-4c92-db3e-fe216999fbac"
      },
      "source": [
        "corr = numeric_features.corr(method = 'spearman')\n",
        "corr_top = corr['SalePrice'].sort_values(ascending=False)[:10]\n",
        "top_features = corr_top.index[1:]\n",
        "print(corr_top,'\\n')\n",
        "\n",
        "print(corr['SalePrice'].sort_values(ascending=False)[-10:])"
      ],
      "execution_count": 18,
      "outputs": [
        {
          "output_type": "stream",
          "text": [
            "SalePrice      1.000000\n",
            "OverallQual    0.809829\n",
            "GrLivArea      0.731310\n",
            "GarageCars     0.690711\n",
            "YearBuilt      0.652682\n",
            "GarageArea     0.649379\n",
            "FullBath       0.635957\n",
            "TotalBsmtSF    0.602725\n",
            "GarageYrBlt    0.593788\n",
            "1stFlrSF       0.575408\n",
            "Name: SalePrice, dtype: float64 \n",
            "\n",
            "MSSubClass       0.007192\n",
            "BsmtHalfBath    -0.012189\n",
            "Id              -0.018546\n",
            "YrSold          -0.029899\n",
            "BsmtFinSF2      -0.038806\n",
            "MiscVal         -0.062727\n",
            "LowQualFinSF    -0.067719\n",
            "OverallCond     -0.129325\n",
            "KitchenAbvGr    -0.164826\n",
            "EnclosedPorch   -0.218394\n",
            "Name: SalePrice, dtype: float64\n"
          ],
          "name": "stdout"
        }
      ]
    },
    {
      "cell_type": "markdown",
      "metadata": {
        "id": "W2nv07UEvvlL"
      },
      "source": [
        "Kendall’s Tau: usually smaller values than Spearman’s rho correlation. Calculations based on concordant and discordant pairs. Insensitive to error. P values are more accurate with smaller sample sizes.\n",
        "\n",
        "Spearman’s rho: usually have larger values than Kendall’s Tau.  Calculations based on deviations.  Much more sensitive to error and discrepancies in data.\n",
        "\n",
        "The main advantages of using Kendall’s tau are as follows:\n",
        "\n",
        "The distribution of Kendall’s tau has better statistical properties.\n",
        "The interpretation of Kendall’s tau in terms of the probabilities of observing the agreeable (concordant) and non-agreeable (discordant) pairs is very direct.\n",
        "In most of the situations, the interpretations of Kendall’s tau and Spearman’s rank correlation coefficient are very similar and thus invariably lead to the same inferences.\n"
      ]
    },
    {
      "cell_type": "markdown",
      "metadata": {
        "id": "NHKk6ZXMvvlM"
      },
      "source": [
        "From both Spearman and Kendall the feature with highest score is OverallQual."
      ]
    },
    {
      "cell_type": "markdown",
      "metadata": {
        "id": "OdFbDdUEvvlN"
      },
      "source": [
        "GrLivArea and SalePrice"
      ]
    },
    {
      "cell_type": "code",
      "metadata": {
        "colab": {
          "base_uri": "https://localhost:8080/",
          "height": 282
        },
        "id": "dtp2UMenvvlN",
        "outputId": "802afcc4-e356-426a-af2d-1edaff8774f4"
      },
      "source": [
        "plt.scatter(x = df1['GrLivArea'], y = df1['SalePrice'])\n",
        "plt.xlabel('Above ground living area square feet')\n",
        "plt.ylabel('SalePrice')\n",
        "plt.show()"
      ],
      "execution_count": 19,
      "outputs": [
        {
          "output_type": "display_data",
          "data": {
            "image/png": "[encoded data removed]",
            "text/plain": [
              "<Figure size 432x288 with 1 Axes>"
            ]
          },
          "metadata": {
            "tags": [],
            "needs_background": "light"
          }
        }
      ]
    },
    {
      "cell_type": "markdown",
      "metadata": {
        "id": "SfDS7t7NvvlO"
      },
      "source": [
        "GarageCars and SalePrice"
      ]
    },
    {
      "cell_type": "code",
      "metadata": {
        "colab": {
          "base_uri": "https://localhost:8080/",
          "height": 282
        },
        "id": "i0W0lhhMvvlP",
        "outputId": "4497c47c-241b-41bb-c0a5-15c988074bf5"
      },
      "source": [
        "plt.scatter(x = df1['GarageCars'], y = df1['SalePrice'])\n",
        "plt.xlabel('GarageCars')\n",
        "plt.ylabel('SalePrice')\n",
        "plt.show()"
      ],
      "execution_count": 20,
      "outputs": [
        {
          "output_type": "display_data",
          "data": {
            "image/png": "[encoded data removed]",
            "text/plain": [
              "<Figure size 432x288 with 1 Axes>"
            ]
          },
          "metadata": {
            "tags": [],
            "needs_background": "light"
          }
        }
      ]
    },
    {
      "cell_type": "markdown",
      "metadata": {
        "id": "L5PeBXvxvvlP"
      },
      "source": [
        "GaragArea and SalePrice"
      ]
    },
    {
      "cell_type": "code",
      "metadata": {
        "colab": {
          "base_uri": "https://localhost:8080/",
          "height": 282
        },
        "id": "xkREqHr5vvlQ",
        "outputId": "575d4b32-f013-4fca-e877-82b92bb89075"
      },
      "source": [
        "plt.scatter(x = df1['GarageArea'], y = df1['SalePrice'])\n",
        "plt.xlabel('GarageArea')\n",
        "plt.ylabel('SalePrice')\n",
        "plt.show()"
      ],
      "execution_count": 21,
      "outputs": [
        {
          "output_type": "display_data",
          "data": {
            "image/png": "[encoded data removed]",
            "text/plain": [
              "<Figure size 432x288 with 1 Axes>"
            ]
          },
          "metadata": {
            "tags": [],
            "needs_background": "light"
          }
        }
      ]
    },
    {
      "cell_type": "markdown",
      "metadata": {
        "id": "_0bw1DnyvvlV"
      },
      "source": [
        "TotalBsmtSF and SalePrice"
      ]
    },
    {
      "cell_type": "code",
      "metadata": {
        "colab": {
          "base_uri": "https://localhost:8080/",
          "height": 282
        },
        "id": "d0XcWfFDvvlW",
        "outputId": "43f34789-4965-4936-99aa-661b882a0eed"
      },
      "source": [
        "plt.scatter(x = df1['TotalBsmtSF'], y = df1['SalePrice'])\n",
        "plt.xlabel('TotalBsmtSF')\n",
        "plt.ylabel('SalePrice')\n",
        "plt.show()"
      ],
      "execution_count": 22,
      "outputs": [
        {
          "output_type": "display_data",
          "data": {
            "image/png": "[encoded data removed]",
            "text/plain": [
              "<Figure size 432x288 with 1 Axes>"
            ]
          },
          "metadata": {
            "tags": [],
            "needs_background": "light"
          }
        }
      ]
    },
    {
      "cell_type": "markdown",
      "metadata": {
        "id": "GjHvEdSxvvlW"
      },
      "source": [
        "FullBath and SalePrice"
      ]
    },
    {
      "cell_type": "code",
      "metadata": {
        "colab": {
          "base_uri": "https://localhost:8080/",
          "height": 282
        },
        "id": "Da5KIS0mvvlX",
        "outputId": "be8d0be6-ac7b-422e-fdbc-53b68937175e"
      },
      "source": [
        "plt.scatter(x = df1['FullBath'], y = df1['SalePrice'])\n",
        "plt.xlabel('FullBath')\n",
        "plt.ylabel('SalePrice')\n",
        "plt.show()"
      ],
      "execution_count": 23,
      "outputs": [
        {
          "output_type": "display_data",
          "data": {
            "image/png": "[encoded data removed]",
            "text/plain": [
              "<Figure size 432x288 with 1 Axes>"
            ]
          },
          "metadata": {
            "tags": [],
            "needs_background": "light"
          }
        }
      ]
    },
    {
      "cell_type": "markdown",
      "metadata": {
        "id": "VZyBu0IpvvlX"
      },
      "source": [
        "TotRmsAbvGrd and SalePrice"
      ]
    },
    {
      "cell_type": "code",
      "metadata": {
        "colab": {
          "base_uri": "https://localhost:8080/",
          "height": 282
        },
        "id": "L_H1a2hOvvlY",
        "outputId": "0bf1362c-56a4-40db-d26c-6f4c07f9e120"
      },
      "source": [
        "plt.scatter(x = df1['TotRmsAbvGrd'], y = df1['SalePrice'])\n",
        "plt.xlabel('Total Rooms Above Ground')\n",
        "plt.ylabel('SalePrice')\n",
        "plt.show()"
      ],
      "execution_count": 24,
      "outputs": [
        {
          "output_type": "display_data",
          "data": {
            "image/png": "[encoded data removed]",
            "text/plain": [
              "<Figure size 432x288 with 1 Axes>"
            ]
          },
          "metadata": {
            "tags": [],
            "needs_background": "light"
          }
        }
      ]
    },
    {
      "cell_type": "markdown",
      "metadata": {
        "id": "Bt3ll2HCvvlZ"
      },
      "source": [
        "YearBuilt and SalePrice"
      ]
    },
    {
      "cell_type": "code",
      "metadata": {
        "colab": {
          "base_uri": "https://localhost:8080/",
          "height": 282
        },
        "id": "m_ncVYkZvvlZ",
        "outputId": "bba8762f-a4fa-4063-9d03-2bdc39ae8d1e"
      },
      "source": [
        "plt.scatter(x = df1['YearBuilt'], y = df1['SalePrice'])\n",
        "plt.xlabel('YearBuilt')\n",
        "plt.ylabel('SalePrice')\n",
        "plt.show()"
      ],
      "execution_count": 25,
      "outputs": [
        {
          "output_type": "display_data",
          "data": {
            "image/png": "[encoded data removed]",
            "text/plain": [
              "<Figure size 432x288 with 1 Axes>"
            ]
          },
          "metadata": {
            "tags": [],
            "needs_background": "light"
          }
        }
      ]
    },
    {
      "cell_type": "code",
      "metadata": {
        "id": "U0d8nyqtvvla"
      },
      "source": [
        ""
      ],
      "execution_count": 25,
      "outputs": []
    },
    {
      "cell_type": "markdown",
      "metadata": {
        "id": "pdvVbK0evvla"
      },
      "source": [
        "We can see that outliers are present in the above graphs and we need to remove them as they interfere with the accuracy of preditions.\n",
        "\n",
        "Some of the prominent outliers present in the above plotted graph:\n",
        "\n",
        "1.)In TotalBsmtSF a data point on the right corner is present.\n",
        "\n",
        "2.)Two points on the right side of the graph in GrLivArea."
      ]
    },
    {
      "cell_type": "code",
      "metadata": {
        "colab": {
          "base_uri": "https://localhost:8080/",
          "height": 353
        },
        "id": "rMZfaHxevvlb",
        "outputId": "35a12c99-9b33-4f66-aaab-8c43e8424f3b"
      },
      "source": [
        "#We are using boxlots to see the outliers in each feature more clearly\n",
        "sns.boxplot(df1['TotalBsmtSF'])\n",
        "plt.title(\"Box Plot before outlier removing\")\n",
        "plt.show()\n",
        "\n",
        "#Outliers are important because they are numbers that are \"outside\" of the Box Plot's upper and lower fence, though they don't affect or change any other numbers in the Box Plot your instructor will still want you to find them.\n",
        "\n",
        "#If we want to find the fences we will first take the IQR and multiply it by 1.5. Let us call this magic number.\n",
        "\n",
        "#Lower fence: Take Q1 and subtract it from magic number, that number we get is lower fence.\n",
        "\n",
        "#Upper fence: Take Q3 and add it to magic number, that number you get is upper fence.\n",
        "\n",
        "#Remember, any numbers that are \"outside\" the lower or upper fences is considered an outlier.\n",
        "\n"
      ],
      "execution_count": 26,
      "outputs": [
        {
          "output_type": "stream",
          "text": [
            "/usr/local/lib/python3.7/dist-packages/seaborn/_decorators.py:43: FutureWarning: Pass the following variable as a keyword arg: x. From version 0.12, the only valid positional argument will be `data`, and passing other arguments without an explicit keyword will result in an error or misinterpretation.\n",
            "  FutureWarning\n"
          ],
          "name": "stderr"
        },
        {
          "output_type": "display_data",
          "data": {
            "image/png": "[encoded data removed]",
            "text/plain": [
              "<Figure size 432x288 with 1 Axes>"
            ]
          },
          "metadata": {
            "tags": [],
            "needs_background": "light"
          }
        }
      ]
    },
    {
      "cell_type": "code",
      "metadata": {
        "colab": {
          "base_uri": "https://localhost:8080/",
          "height": 353
        },
        "id": "Ny4rFY_9vvlc",
        "outputId": "200cd68a-e786-4032-a226-df3bc0c2eff3"
      },
      "source": [
        "sns.boxplot(df1['GrLivArea'])\n",
        "plt.title(\"Box Plot before outlier removing\")\n",
        "plt.show()"
      ],
      "execution_count": 27,
      "outputs": [
        {
          "output_type": "stream",
          "text": [
            "/usr/local/lib/python3.7/dist-packages/seaborn/_decorators.py:43: FutureWarning: Pass the following variable as a keyword arg: x. From version 0.12, the only valid positional argument will be `data`, and passing other arguments without an explicit keyword will result in an error or misinterpretation.\n",
            "  FutureWarning\n"
          ],
          "name": "stderr"
        },
        {
          "output_type": "display_data",
          "data": {
            "image/png": "[encoded data removed]",
            "text/plain": [
              "<Figure size 432x288 with 1 Axes>"
            ]
          },
          "metadata": {
            "tags": [],
            "needs_background": "light"
          }
        }
      ]
    },
    {
      "cell_type": "code",
      "metadata": {
        "colab": {
          "base_uri": "https://localhost:8080/",
          "height": 353
        },
        "id": "nZpZ6gSivvle",
        "outputId": "1d650992-83b8-4345-d663-1026156d38ec"
      },
      "source": [
        "\n",
        "sns.boxplot(df1['GarageArea'])\n",
        "plt.title(\"Box Plot before outlier removing\")\n",
        "plt.show()"
      ],
      "execution_count": 28,
      "outputs": [
        {
          "output_type": "stream",
          "text": [
            "/usr/local/lib/python3.7/dist-packages/seaborn/_decorators.py:43: FutureWarning: Pass the following variable as a keyword arg: x. From version 0.12, the only valid positional argument will be `data`, and passing other arguments without an explicit keyword will result in an error or misinterpretation.\n",
            "  FutureWarning\n"
          ],
          "name": "stderr"
        },
        {
          "output_type": "display_data",
          "data": {
            "image/png": "[encoded data removed]",
            "text/plain": [
              "<Figure size 432x288 with 1 Axes>"
            ]
          },
          "metadata": {
            "tags": [],
            "needs_background": "light"
          }
        }
      ]
    },
    {
      "cell_type": "markdown",
      "metadata": {
        "id": "zr9t5xVZvvlf"
      },
      "source": [
        "Handling Outliers"
      ]
    },
    {
      "cell_type": "code",
      "metadata": {
        "colab": {
          "base_uri": "https://localhost:8080/",
          "height": 314
        },
        "id": "0QbiU-ZIvvlg",
        "outputId": "337adc52-7e54-4e3d-edac-6a40d639ba44"
      },
      "source": [
        "Q1 = []\n",
        "Q3 = []\n",
        "Lower_bound = []\n",
        "Upper_bound = []\n",
        "Outliers = []\n",
        "\n",
        "\n",
        "\n",
        "\n",
        "for i in top_features:\n",
        "    \n",
        "    # 25th and 75th percentiles\n",
        "    q1, q3 = np.percentile(df1[i],25), np.percentile(df1[i],75)\n",
        "    # Interquartile range\n",
        "    iqr = q3 - q1\n",
        "    # Outlier cutoff\n",
        "    cut_off = 1.5*iqr\n",
        "    # Lower and Upper bounds\n",
        "    lower_bound = q1-cut_off\n",
        "    upper_bound = q3+cut_off\n",
        "        \n",
        "    # save outlier indexes\n",
        "    outlier = [x for x in df1.index if df1.loc[x,i]<lower_bound or df1.loc[x,i]>upper_bound]\n",
        "    \n",
        "    # append values for DataFrame\n",
        "    Q1.append(q1)\n",
        "    Q3.append(q3)\n",
        "    Lower_bound.append(lower_bound)\n",
        "    Upper_bound.append(upper_bound)\n",
        "    Outliers.append(len(outlier))\n",
        "    \n",
        "    try:\n",
        "        df1.drop(outlier,inplace=True,axis=0)\n",
        "    except:\n",
        "        continue\n",
        "\n",
        "\n",
        "df_out = pd.DataFrame({'Column':top_features,'Q1':Q1,'Q3':Q3,'Lower bound':Lower_bound,'Upper_bound':Upper_bound,'No. of outliers':Outliers})    \n",
        "df_out.sort_values(by='No. of outliers',ascending=False)\n"
      ],
      "execution_count": 29,
      "outputs": [
        {
          "output_type": "execute_result",
          "data": {
            "text/html": [
              "<div>\n",
              "<style scoped>\n",
              "    .dataframe tbody tr th:only-of-type {\n",
              "        vertical-align: middle;\n",
              "    }\n",
              "\n",
              "    .dataframe tbody tr th {\n",
              "        vertical-align: top;\n",
              "    }\n",
              "\n",
              "    .dataframe thead th {\n",
              "        text-align: right;\n",
              "    }\n",
              "</style>\n",
              "<table border=\"1\" class=\"dataframe\">\n",
              "  <thead>\n",
              "    <tr style=\"text-align: right;\">\n",
              "      <th></th>\n",
              "      <th>Column</th>\n",
              "      <th>Q1</th>\n",
              "      <th>Q3</th>\n",
              "      <th>Lower bound</th>\n",
              "      <th>Upper_bound</th>\n",
              "      <th>No. of outliers</th>\n",
              "    </tr>\n",
              "  </thead>\n",
              "  <tbody>\n",
              "    <tr>\n",
              "      <th>6</th>\n",
              "      <td>TotalBsmtSF</td>\n",
              "      <td>793.0</td>\n",
              "      <td>1267.50</td>\n",
              "      <td>81.250</td>\n",
              "      <td>1979.250</td>\n",
              "      <td>58</td>\n",
              "    </tr>\n",
              "    <tr>\n",
              "      <th>1</th>\n",
              "      <td>GrLivArea</td>\n",
              "      <td>1131.0</td>\n",
              "      <td>1778.25</td>\n",
              "      <td>160.125</td>\n",
              "      <td>2749.125</td>\n",
              "      <td>31</td>\n",
              "    </tr>\n",
              "    <tr>\n",
              "      <th>4</th>\n",
              "      <td>GarageArea</td>\n",
              "      <td>327.0</td>\n",
              "      <td>576.00</td>\n",
              "      <td>-46.500</td>\n",
              "      <td>949.500</td>\n",
              "      <td>14</td>\n",
              "    </tr>\n",
              "    <tr>\n",
              "      <th>8</th>\n",
              "      <td>1stFlrSF</td>\n",
              "      <td>866.0</td>\n",
              "      <td>1344.00</td>\n",
              "      <td>149.000</td>\n",
              "      <td>2061.000</td>\n",
              "      <td>7</td>\n",
              "    </tr>\n",
              "    <tr>\n",
              "      <th>2</th>\n",
              "      <td>GarageCars</td>\n",
              "      <td>1.0</td>\n",
              "      <td>2.00</td>\n",
              "      <td>-0.500</td>\n",
              "      <td>3.500</td>\n",
              "      <td>5</td>\n",
              "    </tr>\n",
              "    <tr>\n",
              "      <th>3</th>\n",
              "      <td>YearBuilt</td>\n",
              "      <td>1954.0</td>\n",
              "      <td>2000.75</td>\n",
              "      <td>1883.875</td>\n",
              "      <td>2070.875</td>\n",
              "      <td>5</td>\n",
              "    </tr>\n",
              "    <tr>\n",
              "      <th>0</th>\n",
              "      <td>OverallQual</td>\n",
              "      <td>5.0</td>\n",
              "      <td>7.00</td>\n",
              "      <td>2.000</td>\n",
              "      <td>10.000</td>\n",
              "      <td>2</td>\n",
              "    </tr>\n",
              "    <tr>\n",
              "      <th>5</th>\n",
              "      <td>FullBath</td>\n",
              "      <td>1.0</td>\n",
              "      <td>2.00</td>\n",
              "      <td>-0.500</td>\n",
              "      <td>3.500</td>\n",
              "      <td>0</td>\n",
              "    </tr>\n",
              "    <tr>\n",
              "      <th>7</th>\n",
              "      <td>GarageYrBlt</td>\n",
              "      <td>NaN</td>\n",
              "      <td>NaN</td>\n",
              "      <td>NaN</td>\n",
              "      <td>NaN</td>\n",
              "      <td>0</td>\n",
              "    </tr>\n",
              "  </tbody>\n",
              "</table>\n",
              "</div>"
            ],
            "text/plain": [
              "        Column      Q1       Q3  Lower bound  Upper_bound  No. of outliers\n",
              "6  TotalBsmtSF   793.0  1267.50       81.250     1979.250               58\n",
              "1    GrLivArea  1131.0  1778.25      160.125     2749.125               31\n",
              "4   GarageArea   327.0   576.00      -46.500      949.500               14\n",
              "8     1stFlrSF   866.0  1344.00      149.000     2061.000                7\n",
              "2   GarageCars     1.0     2.00       -0.500        3.500                5\n",
              "3    YearBuilt  1954.0  2000.75     1883.875     2070.875                5\n",
              "0  OverallQual     5.0     7.00        2.000       10.000                2\n",
              "5     FullBath     1.0     2.00       -0.500        3.500                0\n",
              "7  GarageYrBlt     NaN      NaN          NaN          NaN                0"
            ]
          },
          "metadata": {
            "tags": []
          },
          "execution_count": 29
        }
      ]
    },
    {
      "cell_type": "code",
      "metadata": {
        "colab": {
          "base_uri": "https://localhost:8080/",
          "height": 353
        },
        "id": "Hex3E6uivvli",
        "outputId": "955a7908-54cc-461e-d983-f92776e52c75"
      },
      "source": [
        "sns.boxplot(df1['TotalBsmtSF'])\n",
        "plt.title(\"Box Plot after outlier removing\")\n",
        "plt.show()"
      ],
      "execution_count": 30,
      "outputs": [
        {
          "output_type": "stream",
          "text": [
            "/usr/local/lib/python3.7/dist-packages/seaborn/_decorators.py:43: FutureWarning: Pass the following variable as a keyword arg: x. From version 0.12, the only valid positional argument will be `data`, and passing other arguments without an explicit keyword will result in an error or misinterpretation.\n",
            "  FutureWarning\n"
          ],
          "name": "stderr"
        },
        {
          "output_type": "display_data",
          "data": {
            "image/png": "[encoded data removed]",
            "text/plain": [
              "<Figure size 432x288 with 1 Axes>"
            ]
          },
          "metadata": {
            "tags": [],
            "needs_background": "light"
          }
        }
      ]
    },
    {
      "cell_type": "code",
      "metadata": {
        "colab": {
          "base_uri": "https://localhost:8080/",
          "height": 353
        },
        "id": "QeywP5UZvvlj",
        "outputId": "8d02595a-33bd-4274-ccb5-4e3ee173cfc9"
      },
      "source": [
        "sns.boxplot(df1['GrLivArea'])\n",
        "plt.title(\"Box Plot after outlier removing\")\n",
        "plt.show()"
      ],
      "execution_count": 31,
      "outputs": [
        {
          "output_type": "stream",
          "text": [
            "/usr/local/lib/python3.7/dist-packages/seaborn/_decorators.py:43: FutureWarning: Pass the following variable as a keyword arg: x. From version 0.12, the only valid positional argument will be `data`, and passing other arguments without an explicit keyword will result in an error or misinterpretation.\n",
            "  FutureWarning\n"
          ],
          "name": "stderr"
        },
        {
          "output_type": "display_data",
          "data": {
            "image/png": "[encoded data removed]",
            "text/plain": [
              "<Figure size 432x288 with 1 Axes>"
            ]
          },
          "metadata": {
            "tags": [],
            "needs_background": "light"
          }
        }
      ]
    },
    {
      "cell_type": "code",
      "metadata": {
        "colab": {
          "base_uri": "https://localhost:8080/",
          "height": 353
        },
        "id": "scj14IU5vvlk",
        "outputId": "221a5aae-22d2-4086-e010-af7963cd5efe"
      },
      "source": [
        "\n",
        "sns.boxplot(df1['GarageArea'])\n",
        "plt.title(\"Box Plot after outlier removing\")\n",
        "plt.show()\n",
        "#No outliers present"
      ],
      "execution_count": 32,
      "outputs": [
        {
          "output_type": "stream",
          "text": [
            "/usr/local/lib/python3.7/dist-packages/seaborn/_decorators.py:43: FutureWarning: Pass the following variable as a keyword arg: x. From version 0.12, the only valid positional argument will be `data`, and passing other arguments without an explicit keyword will result in an error or misinterpretation.\n",
            "  FutureWarning\n"
          ],
          "name": "stderr"
        },
        {
          "output_type": "display_data",
          "data": {
            "image/png": "[encoded data removed]",
            "text/plain": [
              "<Figure size 432x288 with 1 Axes>"
            ]
          },
          "metadata": {
            "tags": [],
            "needs_background": "light"
          }
        }
      ]
    },
    {
      "cell_type": "code",
      "metadata": {
        "colab": {
          "base_uri": "https://localhost:8080/",
          "height": 353
        },
        "id": "by4BzblWvvll",
        "outputId": "b6132c51-6a7d-4bce-92da-9a6322846645"
      },
      "source": [
        "sns.boxplot(df1['OverallQual'])\n",
        "plt.title(\"Box Plot after outlier removing\")\n",
        "plt.show()\n",
        "#No outliers are present"
      ],
      "execution_count": 33,
      "outputs": [
        {
          "output_type": "stream",
          "text": [
            "/usr/local/lib/python3.7/dist-packages/seaborn/_decorators.py:43: FutureWarning: Pass the following variable as a keyword arg: x. From version 0.12, the only valid positional argument will be `data`, and passing other arguments without an explicit keyword will result in an error or misinterpretation.\n",
            "  FutureWarning\n"
          ],
          "name": "stderr"
        },
        {
          "output_type": "display_data",
          "data": {
            "image/png": "[encoded data removed]",
            "text/plain": [
              "<Figure size 432x288 with 1 Axes>"
            ]
          },
          "metadata": {
            "tags": [],
            "needs_background": "light"
          }
        }
      ]
    },
    {
      "cell_type": "code",
      "metadata": {
        "colab": {
          "base_uri": "https://localhost:8080/"
        },
        "id": "Fea_JH4ovvlm",
        "outputId": "4af6f7ed-23cf-4c1a-a48e-abfe73156845"
      },
      "source": [
        "df1.shape"
      ],
      "execution_count": 34,
      "outputs": [
        {
          "output_type": "execute_result",
          "data": {
            "text/plain": [
              "(1338, 81)"
            ]
          },
          "metadata": {
            "tags": []
          },
          "execution_count": 34
        }
      ]
    },
    {
      "cell_type": "markdown",
      "metadata": {
        "id": "wKx50_hKvvln"
      },
      "source": [
        "We have dropped a few rows in order to avoid problem with predictions later."
      ]
    },
    {
      "cell_type": "markdown",
      "metadata": {
        "id": "pQCh6n_svvln"
      },
      "source": [
        "Taking the log transformation of target feature using np.log() to deal with the skewness in the data\n"
      ]
    },
    {
      "cell_type": "code",
      "metadata": {
        "colab": {
          "base_uri": "https://localhost:8080/",
          "height": 282
        },
        "id": "s_VhcwO4vvlo",
        "outputId": "f992de41-2ec5-4696-d501-de5cd71bca6a"
      },
      "source": [
        "target = np.log(df1['SalePrice'])\n",
        "\n",
        "print (\"Skew is:\", target.skew())\n",
        "plt.hist(target, color='blue')\n",
        "plt.show()\n"
      ],
      "execution_count": 35,
      "outputs": [
        {
          "output_type": "stream",
          "text": [
            "Skew is: -0.11142575081257262\n"
          ],
          "name": "stdout"
        },
        {
          "output_type": "display_data",
          "data": {
            "image/png": "[encoded data removed]",
            "text/plain": [
              "<Figure size 432x288 with 1 Axes>"
            ]
          },
          "metadata": {
            "tags": [],
            "needs_background": "light"
          }
        }
      ]
    },
    {
      "cell_type": "code",
      "metadata": {
        "colab": {
          "base_uri": "https://localhost:8080/",
          "height": 379
        },
        "id": "VIpDx17lvvlo",
        "outputId": "f6b53b60-76ba-4352-eef8-ea9f70297785"
      },
      "source": [
        "sns.distplot(target)\n",
        "plt.xticks(rotation = 30)"
      ],
      "execution_count": 36,
      "outputs": [
        {
          "output_type": "stream",
          "text": [
            "/usr/local/lib/python3.7/dist-packages/seaborn/distributions.py:2557: FutureWarning: `distplot` is a deprecated function and will be removed in a future version. Please adapt your code to use either `displot` (a figure-level function with similar flexibility) or `histplot` (an axes-level function for histograms).\n",
            "  warnings.warn(msg, FutureWarning)\n"
          ],
          "name": "stderr"
        },
        {
          "output_type": "execute_result",
          "data": {
            "text/plain": [
              "(array([10. , 10.5, 11. , 11.5, 12. , 12.5, 13. , 13.5]),\n",
              " <a list of 8 Text major ticklabel objects>)"
            ]
          },
          "metadata": {
            "tags": []
          },
          "execution_count": 36
        },
        {
          "output_type": "display_data",
          "data": {
            "image/png": "[encoded data removed]",
            "text/plain": [
              "<Figure size 432x288 with 1 Axes>"
            ]
          },
          "metadata": {
            "tags": [],
            "needs_background": "light"
          }
        }
      ]
    },
    {
      "cell_type": "markdown",
      "metadata": {
        "id": "G6EyMgJDvvlp"
      },
      "source": [
        "The distributions now seems to be symmetrical and more normally distributed"
      ]
    },
    {
      "cell_type": "markdown",
      "metadata": {
        "id": "lprcb_bdvvlp"
      },
      "source": [
        "Handling missing data"
      ]
    },
    {
      "cell_type": "markdown",
      "metadata": {
        "id": "ipvsWcTOvvlq"
      },
      "source": [
        "Number of missing values in each column "
      ]
    },
    {
      "cell_type": "code",
      "metadata": {
        "colab": {
          "base_uri": "https://localhost:8080/"
        },
        "id": "rbVSL2_gvvlq",
        "outputId": "e11c22f7-7696-4855-8dd7-97c3c91e8a84"
      },
      "source": [
        "df1.isna().sum().sort_values(ascending = False).head(20)"
      ],
      "execution_count": 37,
      "outputs": [
        {
          "output_type": "execute_result",
          "data": {
            "text/plain": [
              "PoolQC          1335\n",
              "MiscFeature     1290\n",
              "Alley           1254\n",
              "Fence           1075\n",
              "FireplaceQu      649\n",
              "LotFrontage      239\n",
              "GarageQual        69\n",
              "GarageCond        69\n",
              "GarageYrBlt       69\n",
              "GarageType        69\n",
              "GarageFinish      69\n",
              "MasVnrArea         6\n",
              "MasVnrType         6\n",
              "Electrical         1\n",
              "BsmtExposure       1\n",
              "Exterior1st        0\n",
              "RoofMatl           0\n",
              "RoofStyle          0\n",
              "YearRemodAdd       0\n",
              "ExterQual          0\n",
              "dtype: int64"
            ]
          },
          "metadata": {
            "tags": []
          },
          "execution_count": 37
        }
      ]
    },
    {
      "cell_type": "code",
      "metadata": {
        "colab": {
          "base_uri": "https://localhost:8080/"
        },
        "id": "pEJlMvjyvvls",
        "outputId": "0c491eee-dc98-4909-f371-fdd8306b221a"
      },
      "source": [
        "df1['PoolQC'].unique()"
      ],
      "execution_count": 38,
      "outputs": [
        {
          "output_type": "execute_result",
          "data": {
            "text/plain": [
              "array([nan, 'Fa', 'Gd'], dtype=object)"
            ]
          },
          "metadata": {
            "tags": []
          },
          "execution_count": 38
        }
      ]
    },
    {
      "cell_type": "markdown",
      "metadata": {
        "id": "r7WsSK83vvls"
      },
      "source": [
        "In ordinal encoding, each unique category value is assigned an integer value. For example, “red” is 1, “green” is 2, and “blue” is 3. This is called an ordinal encoding or an integer encoding and is easily reversible. \n",
        "\n"
      ]
    },
    {
      "cell_type": "markdown",
      "metadata": {
        "id": "LjHi4L2Kvvlu"
      },
      "source": [
        "Ordinal Features"
      ]
    },
    {
      "cell_type": "code",
      "metadata": {
        "id": "o62MZntWvvlv"
      },
      "source": [
        "df1['PoolQC'].replace(['Ex','Gd','TA','Fa',np.nan],[4,3,2,1,0],inplace=True)"
      ],
      "execution_count": 39,
      "outputs": []
    },
    {
      "cell_type": "code",
      "metadata": {
        "colab": {
          "base_uri": "https://localhost:8080/"
        },
        "id": "4HZ-2S7tvvl0",
        "outputId": "5647df29-0f80-4983-a865-1b66d109ee4c"
      },
      "source": [
        "df1['Fence'].unique()"
      ],
      "execution_count": 40,
      "outputs": [
        {
          "output_type": "execute_result",
          "data": {
            "text/plain": [
              "array([nan, 'MnPrv', 'GdWo', 'GdPrv', 'MnWw'], dtype=object)"
            ]
          },
          "metadata": {
            "tags": []
          },
          "execution_count": 40
        }
      ]
    },
    {
      "cell_type": "code",
      "metadata": {
        "id": "3yggNhb_vvl1"
      },
      "source": [
        "df1['Fence'].replace(['GdPrv','MnPrv','GdWo','MnWw',np.nan],[4,3,2,1,0],inplace=True)\n"
      ],
      "execution_count": 41,
      "outputs": []
    },
    {
      "cell_type": "code",
      "metadata": {
        "id": "TrhClvNMvvl2"
      },
      "source": [
        "df1['FireplaceQu'].replace(['Ex','Gd','TA','Fa','Po',np.nan],[5,4,3,2,1,0],inplace=True)\n"
      ],
      "execution_count": 42,
      "outputs": []
    },
    {
      "cell_type": "code",
      "metadata": {
        "id": "1dE49WKyvvl3"
      },
      "source": [
        "df1['GarageQual'].replace(['Ex','Gd','TA','Fa','Po',np.nan], [5,4,3,2,1,0], inplace = True)"
      ],
      "execution_count": 43,
      "outputs": []
    },
    {
      "cell_type": "code",
      "metadata": {
        "id": "YVySLxxfvvl4"
      },
      "source": [
        "df1['GarageCond'].replace(['Ex','Gd','TA','Fa','Po',np.nan], [5,4,3,2,1,0], inplace= True)"
      ],
      "execution_count": 44,
      "outputs": []
    },
    {
      "cell_type": "code",
      "metadata": {
        "id": "-7oZnjVgvvl5"
      },
      "source": [
        "df1['GarageFinish'].replace(['Fin','RFn','Unf',np.nan],[3,2,1,0],inplace = True)"
      ],
      "execution_count": 45,
      "outputs": []
    },
    {
      "cell_type": "code",
      "metadata": {
        "id": "LFT7jC_Xvvl6"
      },
      "source": [
        "df1['BsmtExposure'].replace(['Gd','Av','Mn','No','NA',np.nan],[3,2,1,0,0,0], inplace = True)"
      ],
      "execution_count": 46,
      "outputs": []
    },
    {
      "cell_type": "markdown",
      "metadata": {
        "id": "auwBJu0avvl6"
      },
      "source": [
        "Nominal Features"
      ]
    },
    {
      "cell_type": "code",
      "metadata": {
        "id": "2XIq03rpvvl7"
      },
      "source": [
        "df1['MiscFeature'].fillna('None', inplace = True)\n",
        "#replacing null values with None"
      ],
      "execution_count": 47,
      "outputs": []
    },
    {
      "cell_type": "code",
      "metadata": {
        "id": "ITHEPDlPvvl8"
      },
      "source": [
        "df1['Alley'].fillna('None', inplace = True)"
      ],
      "execution_count": 48,
      "outputs": []
    },
    {
      "cell_type": "code",
      "metadata": {
        "id": "4HS_-D3jvvl9"
      },
      "source": [
        "df1['GarageType'].fillna('None',inplace = True)"
      ],
      "execution_count": 49,
      "outputs": []
    },
    {
      "cell_type": "code",
      "metadata": {
        "id": "SpQEnXH-vvl-"
      },
      "source": [
        "df1['GarageYrBlt'].fillna('None',inplace = True)"
      ],
      "execution_count": 50,
      "outputs": []
    },
    {
      "cell_type": "code",
      "metadata": {
        "id": "Tuphhar-vvl_"
      },
      "source": [
        "df1['MasVnrType'].fillna('None', inplace = True)"
      ],
      "execution_count": 51,
      "outputs": []
    },
    {
      "cell_type": "code",
      "metadata": {
        "id": "RoEoi5V1vvmB"
      },
      "source": [
        "df1['Electrical'].fillna('None', inplace = True)"
      ],
      "execution_count": 52,
      "outputs": []
    },
    {
      "cell_type": "markdown",
      "metadata": {
        "id": "OjmOzob5vvmC"
      },
      "source": [
        "Numerical Features"
      ]
    },
    {
      "cell_type": "code",
      "metadata": {
        "id": "aSkF7PkuvvmC"
      },
      "source": [
        "df1['LotFrontage'] = df1.groupby('Neighborhood')['LotFrontage'].transform(lambda x:x.fillna(x.median()))\n",
        "#replacing null values with the average of the neighborhood"
      ],
      "execution_count": 53,
      "outputs": []
    },
    {
      "cell_type": "code",
      "metadata": {
        "id": "zFMkDYNdvvmD"
      },
      "source": [
        "df1['MasVnrArea'].fillna(0, inplace = True)"
      ],
      "execution_count": 54,
      "outputs": []
    },
    {
      "cell_type": "markdown",
      "metadata": {
        "id": "wNDuGJsVvvmE"
      },
      "source": [
        "Feature Engineering"
      ]
    },
    {
      "cell_type": "code",
      "metadata": {
        "id": "PNBQdgO4vvmF"
      },
      "source": [
        "#Ordinal features\n",
        "for i in ['BsmtCond','BsmtQual']:\n",
        "    df1[i].replace(['Ex','Gd','TA','Fa','Po',np.nan],[5,4,3,2,1,0],inplace=True)\n",
        "\n",
        "for i in ['BsmtFinType1','BsmtFinType2']:\n",
        "    df1[i].replace(['GLQ','ALQ','BLQ','Rec','LwQ','Unf',np.nan],[6,5,4,3,2,1,0],inplace=True)     \n",
        "\n",
        "#Numerical features\n",
        "for i in ['BsmtHalfBath','BsmtFullBath','BsmtFinSF1','BsmtFinSF2','BsmtUnfSF','TotalBsmtSF']:\n",
        "    df1[i].fillna(0,inplace=True)\n"
      ],
      "execution_count": 55,
      "outputs": []
    },
    {
      "cell_type": "code",
      "metadata": {
        "id": "XrBrP7iGvvmG"
      },
      "source": [
        "#If no masonary work, then area is 0\n",
        "df1['MasVnrArea'].fillna(0,inplace=True)\n",
        "\n",
        "#Replacing with the most common value\n",
        "for i in ['MSZoning','Utilities']:\n",
        "    df1[i].fillna(df1[i].mode()[0],inplace=True)\n",
        "\n",
        "\n",
        "#Assuming typical unless deductions are warranted\n",
        "df1['Functional'].fillna('Typ',inplace=True)\n",
        "\n",
        "\n",
        "#Replacing with others\n",
        "df1['SaleType'].fillna('Oth',inplace=True)\n",
        "#Replace with most common value\n",
        "df1['Electrical'].fillna(df1['Electrical'].mode()[0],inplace=True)\n",
        "\n",
        "\n",
        "#Replacing with 'Other' value\n",
        "for i in ['Exterior1st','Exterior2nd']:\n",
        "    df1[i].fillna('Other',inplace=True)\n",
        "    \n",
        "#Replacing with most common value\n",
        "df1['KitchenQual'].fillna(df1['KitchenQual'].mode()[0],inplace=True)\n",
        "\n",
        "#Ordinal value\n",
        "df1['KitchenQual'].replace(['Ex','Gd','TA','Fa','Po'],[4,3,2,1,0],inplace=True)\n"
      ],
      "execution_count": 56,
      "outputs": []
    },
    {
      "cell_type": "code",
      "metadata": {
        "id": "-jdRTvA0vvmH"
      },
      "source": [
        "#Ordinal features\n",
        "df1['CentralAir'].replace(['N','Y'],[0,1],inplace=True)\n",
        "\n",
        "#Nominal features\n",
        "for i in ['HeatingQC','ExterCond','ExterQual']:\n",
        "    df1[i].replace(['Ex','Gd','TA','Fa','Po'],[4,3,2,1,0],inplace=True)\n"
      ],
      "execution_count": 57,
      "outputs": []
    },
    {
      "cell_type": "code",
      "metadata": {
        "colab": {
          "base_uri": "https://localhost:8080/",
          "height": 282
        },
        "id": "VKGHdCOZvvmI",
        "outputId": "c09eec95-1cf2-41b0-fd68-294367054cca"
      },
      "source": [
        "condition_pivot = df1.pivot_table(index='SaleCondition', values='SalePrice', aggfunc=np.median)\n",
        "condition_pivot.plot(kind='bar', color='blue')\n",
        "plt.xlabel('Sale Condition')\n",
        "plt.ylabel('Median Sale Price')\n",
        "plt.xticks(rotation=0)\n",
        "plt.show()"
      ],
      "execution_count": 58,
      "outputs": [
        {
          "output_type": "display_data",
          "data": {
            "image/png": "[encoded data removed]",
            "text/plain": [
              "<Figure size 432x288 with 1 Axes>"
            ]
          },
          "metadata": {
            "tags": [],
            "needs_background": "light"
          }
        }
      ]
    },
    {
      "cell_type": "markdown",
      "metadata": {
        "id": "QRAMjRUSvvmJ"
      },
      "source": [
        "Notice that Partial has a significantly higher Median Sale Price than the others. We will encode this as a new feature. We select all of the houses where SaleCondition is equal to Patrial and assign the value 1, otherwise assign 0.\n",
        "\n"
      ]
    },
    {
      "cell_type": "code",
      "metadata": {
        "id": "R0A3iHtRvvmK"
      },
      "source": [
        "# New house or an old house\n",
        "df1['NewHouse'] = df1.apply(lambda x: 1 if x['SaleCondition']=='Partial' else 0, axis=1)\n",
        " \n"
      ],
      "execution_count": 59,
      "outputs": []
    },
    {
      "cell_type": "code",
      "metadata": {
        "colab": {
          "base_uri": "https://localhost:8080/",
          "height": 282
        },
        "id": "At4Ge74lvvmL",
        "outputId": "0e724de4-65dc-4214-beec-bda190a4a9c1"
      },
      "source": [
        "condition_pivot = df1.pivot_table(index='NewHouse', values='SalePrice', aggfunc=np.median)\n",
        "condition_pivot.plot(kind='bar', color='blue')\n",
        "plt.xlabel('Encoded sale condition')\n",
        "plt.ylabel('Median Sale Price')\n",
        "plt.xticks(rotation=0)\n",
        "plt.show()\n",
        "\n",
        "#linearity visible in the graph"
      ],
      "execution_count": 60,
      "outputs": [
        {
          "output_type": "display_data",
          "data": {
            "image/png": "[encoded data removed]",
            "text/plain": [
              "<Figure size 432x288 with 1 Axes>"
            ]
          },
          "metadata": {
            "tags": [],
            "needs_background": "light"
          }
        }
      ]
    },
    {
      "cell_type": "code",
      "metadata": {
        "id": "Rcc67uNlvvmM"
      },
      "source": [
        "# Total surface area of house\n",
        "df1['TotalSF'] = df1.apply(lambda x: x['1stFlrSF'] + x['2ndFlrSF'] + x['TotalBsmtSF'], axis=1)\n",
        "\n",
        "# Total number of bathrooms in the house\n",
        "df1['TotalBath'] = df1.apply(lambda x: x['FullBath'] + 0.5*x['HalfBath'] + x['BsmtFullBath'] + 0.5*x['BsmtHalfBath'], axis=1)\n",
        "\n",
        "# Total Porch area in the house\n",
        "df1['TotalPorch'] = df1.apply(lambda x: x['OpenPorchSF'] + x['EnclosedPorch'] + x['3SsnPorch'] + x['ScreenPorch'], axis=1)\n",
        "\n"
      ],
      "execution_count": 61,
      "outputs": []
    },
    {
      "cell_type": "code",
      "metadata": {
        "id": "CfpXZoW9vvmN"
      },
      "source": [
        ""
      ],
      "execution_count": 61,
      "outputs": []
    },
    {
      "cell_type": "code",
      "metadata": {
        "colab": {
          "base_uri": "https://localhost:8080/"
        },
        "id": "mvkxe34SvvmN",
        "outputId": "22159cb7-75a9-467c-deec-c0ad769cdccd"
      },
      "source": [
        "#Checking if the columns have null values\n",
        "sum(df1.isnull().sum() != 0)\n"
      ],
      "execution_count": 62,
      "outputs": [
        {
          "output_type": "execute_result",
          "data": {
            "text/plain": [
              "0"
            ]
          },
          "metadata": {
            "tags": []
          },
          "execution_count": 62
        }
      ]
    },
    {
      "cell_type": "code",
      "metadata": {
        "colab": {
          "base_uri": "https://localhost:8080/",
          "height": 244
        },
        "id": "J1TnlpuNvvmO",
        "outputId": "fddc9686-3b5d-492c-dd3c-e0b516eded21"
      },
      "source": [
        "# One-Hot encoding\n",
        "#To convert natural language into numerical value to feed the ML Model as it only understands numerical values\n",
        "df1 = pd.get_dummies(df1,drop_first=True)\n",
        "df1.head()\n"
      ],
      "execution_count": 63,
      "outputs": [
        {
          "output_type": "execute_result",
          "data": {
            "text/html": [
              "<div>\n",
              "<style scoped>\n",
              "    .dataframe tbody tr th:only-of-type {\n",
              "        vertical-align: middle;\n",
              "    }\n",
              "\n",
              "    .dataframe tbody tr th {\n",
              "        vertical-align: top;\n",
              "    }\n",
              "\n",
              "    .dataframe thead th {\n",
              "        text-align: right;\n",
              "    }\n",
              "</style>\n",
              "<table border=\"1\" class=\"dataframe\">\n",
              "  <thead>\n",
              "    <tr style=\"text-align: right;\">\n",
              "      <th></th>\n",
              "      <th>Id</th>\n",
              "      <th>MSSubClass</th>\n",
              "      <th>LotFrontage</th>\n",
              "      <th>LotArea</th>\n",
              "      <th>OverallQual</th>\n",
              "      <th>OverallCond</th>\n",
              "      <th>YearBuilt</th>\n",
              "      <th>YearRemodAdd</th>\n",
              "      <th>MasVnrArea</th>\n",
              "      <th>ExterQual</th>\n",
              "      <th>ExterCond</th>\n",
              "      <th>BsmtQual</th>\n",
              "      <th>BsmtCond</th>\n",
              "      <th>BsmtExposure</th>\n",
              "      <th>BsmtFinType1</th>\n",
              "      <th>BsmtFinSF1</th>\n",
              "      <th>BsmtFinType2</th>\n",
              "      <th>BsmtFinSF2</th>\n",
              "      <th>BsmtUnfSF</th>\n",
              "      <th>TotalBsmtSF</th>\n",
              "      <th>HeatingQC</th>\n",
              "      <th>CentralAir</th>\n",
              "      <th>1stFlrSF</th>\n",
              "      <th>2ndFlrSF</th>\n",
              "      <th>LowQualFinSF</th>\n",
              "      <th>GrLivArea</th>\n",
              "      <th>BsmtFullBath</th>\n",
              "      <th>BsmtHalfBath</th>\n",
              "      <th>FullBath</th>\n",
              "      <th>HalfBath</th>\n",
              "      <th>BedroomAbvGr</th>\n",
              "      <th>KitchenAbvGr</th>\n",
              "      <th>KitchenQual</th>\n",
              "      <th>TotRmsAbvGrd</th>\n",
              "      <th>Fireplaces</th>\n",
              "      <th>FireplaceQu</th>\n",
              "      <th>GarageFinish</th>\n",
              "      <th>GarageCars</th>\n",
              "      <th>GarageArea</th>\n",
              "      <th>GarageQual</th>\n",
              "      <th>...</th>\n",
              "      <th>GarageYrBlt_1990.0</th>\n",
              "      <th>GarageYrBlt_1991.0</th>\n",
              "      <th>GarageYrBlt_1992.0</th>\n",
              "      <th>GarageYrBlt_1993.0</th>\n",
              "      <th>GarageYrBlt_1994.0</th>\n",
              "      <th>GarageYrBlt_1995.0</th>\n",
              "      <th>GarageYrBlt_1996.0</th>\n",
              "      <th>GarageYrBlt_1997.0</th>\n",
              "      <th>GarageYrBlt_1998.0</th>\n",
              "      <th>GarageYrBlt_1999.0</th>\n",
              "      <th>GarageYrBlt_2000.0</th>\n",
              "      <th>GarageYrBlt_2001.0</th>\n",
              "      <th>GarageYrBlt_2002.0</th>\n",
              "      <th>GarageYrBlt_2003.0</th>\n",
              "      <th>GarageYrBlt_2004.0</th>\n",
              "      <th>GarageYrBlt_2005.0</th>\n",
              "      <th>GarageYrBlt_2006.0</th>\n",
              "      <th>GarageYrBlt_2007.0</th>\n",
              "      <th>GarageYrBlt_2008.0</th>\n",
              "      <th>GarageYrBlt_2009.0</th>\n",
              "      <th>GarageYrBlt_2010.0</th>\n",
              "      <th>GarageYrBlt_None</th>\n",
              "      <th>PavedDrive_P</th>\n",
              "      <th>PavedDrive_Y</th>\n",
              "      <th>MiscFeature_None</th>\n",
              "      <th>MiscFeature_Othr</th>\n",
              "      <th>MiscFeature_Shed</th>\n",
              "      <th>SaleType_CWD</th>\n",
              "      <th>SaleType_Con</th>\n",
              "      <th>SaleType_ConLD</th>\n",
              "      <th>SaleType_ConLI</th>\n",
              "      <th>SaleType_ConLw</th>\n",
              "      <th>SaleType_New</th>\n",
              "      <th>SaleType_Oth</th>\n",
              "      <th>SaleType_WD</th>\n",
              "      <th>SaleCondition_AdjLand</th>\n",
              "      <th>SaleCondition_Alloca</th>\n",
              "      <th>SaleCondition_Family</th>\n",
              "      <th>SaleCondition_Normal</th>\n",
              "      <th>SaleCondition_Partial</th>\n",
              "    </tr>\n",
              "  </thead>\n",
              "  <tbody>\n",
              "    <tr>\n",
              "      <th>0</th>\n",
              "      <td>1</td>\n",
              "      <td>60</td>\n",
              "      <td>65.0</td>\n",
              "      <td>8450</td>\n",
              "      <td>7</td>\n",
              "      <td>5</td>\n",
              "      <td>2003</td>\n",
              "      <td>2003</td>\n",
              "      <td>196.0</td>\n",
              "      <td>3</td>\n",
              "      <td>2</td>\n",
              "      <td>4</td>\n",
              "      <td>3</td>\n",
              "      <td>0</td>\n",
              "      <td>6</td>\n",
              "      <td>706</td>\n",
              "      <td>1</td>\n",
              "      <td>0</td>\n",
              "      <td>150</td>\n",
              "      <td>856</td>\n",
              "      <td>4</td>\n",
              "      <td>1</td>\n",
              "      <td>856</td>\n",
              "      <td>854</td>\n",
              "      <td>0</td>\n",
              "      <td>1710</td>\n",
              "      <td>1</td>\n",
              "      <td>0</td>\n",
              "      <td>2</td>\n",
              "      <td>1</td>\n",
              "      <td>3</td>\n",
              "      <td>1</td>\n",
              "      <td>3</td>\n",
              "      <td>8</td>\n",
              "      <td>0</td>\n",
              "      <td>0</td>\n",
              "      <td>2</td>\n",
              "      <td>2</td>\n",
              "      <td>548</td>\n",
              "      <td>3</td>\n",
              "      <td>...</td>\n",
              "      <td>0</td>\n",
              "      <td>0</td>\n",
              "      <td>0</td>\n",
              "      <td>0</td>\n",
              "      <td>0</td>\n",
              "      <td>0</td>\n",
              "      <td>0</td>\n",
              "      <td>0</td>\n",
              "      <td>0</td>\n",
              "      <td>0</td>\n",
              "      <td>0</td>\n",
              "      <td>0</td>\n",
              "      <td>0</td>\n",
              "      <td>1</td>\n",
              "      <td>0</td>\n",
              "      <td>0</td>\n",
              "      <td>0</td>\n",
              "      <td>0</td>\n",
              "      <td>0</td>\n",
              "      <td>0</td>\n",
              "      <td>0</td>\n",
              "      <td>0</td>\n",
              "      <td>0</td>\n",
              "      <td>1</td>\n",
              "      <td>1</td>\n",
              "      <td>0</td>\n",
              "      <td>0</td>\n",
              "      <td>0</td>\n",
              "      <td>0</td>\n",
              "      <td>0</td>\n",
              "      <td>0</td>\n",
              "      <td>0</td>\n",
              "      <td>0</td>\n",
              "      <td>0</td>\n",
              "      <td>1</td>\n",
              "      <td>0</td>\n",
              "      <td>0</td>\n",
              "      <td>0</td>\n",
              "      <td>1</td>\n",
              "      <td>0</td>\n",
              "    </tr>\n",
              "    <tr>\n",
              "      <th>1</th>\n",
              "      <td>2</td>\n",
              "      <td>20</td>\n",
              "      <td>80.0</td>\n",
              "      <td>9600</td>\n",
              "      <td>6</td>\n",
              "      <td>8</td>\n",
              "      <td>1976</td>\n",
              "      <td>1976</td>\n",
              "      <td>0.0</td>\n",
              "      <td>2</td>\n",
              "      <td>2</td>\n",
              "      <td>4</td>\n",
              "      <td>3</td>\n",
              "      <td>3</td>\n",
              "      <td>5</td>\n",
              "      <td>978</td>\n",
              "      <td>1</td>\n",
              "      <td>0</td>\n",
              "      <td>284</td>\n",
              "      <td>1262</td>\n",
              "      <td>4</td>\n",
              "      <td>1</td>\n",
              "      <td>1262</td>\n",
              "      <td>0</td>\n",
              "      <td>0</td>\n",
              "      <td>1262</td>\n",
              "      <td>0</td>\n",
              "      <td>1</td>\n",
              "      <td>2</td>\n",
              "      <td>0</td>\n",
              "      <td>3</td>\n",
              "      <td>1</td>\n",
              "      <td>2</td>\n",
              "      <td>6</td>\n",
              "      <td>1</td>\n",
              "      <td>3</td>\n",
              "      <td>2</td>\n",
              "      <td>2</td>\n",
              "      <td>460</td>\n",
              "      <td>3</td>\n",
              "      <td>...</td>\n",
              "      <td>0</td>\n",
              "      <td>0</td>\n",
              "      <td>0</td>\n",
              "      <td>0</td>\n",
              "      <td>0</td>\n",
              "      <td>0</td>\n",
              "      <td>0</td>\n",
              "      <td>0</td>\n",
              "      <td>0</td>\n",
              "      <td>0</td>\n",
              "      <td>0</td>\n",
              "      <td>0</td>\n",
              "      <td>0</td>\n",
              "      <td>0</td>\n",
              "      <td>0</td>\n",
              "      <td>0</td>\n",
              "      <td>0</td>\n",
              "      <td>0</td>\n",
              "      <td>0</td>\n",
              "      <td>0</td>\n",
              "      <td>0</td>\n",
              "      <td>0</td>\n",
              "      <td>0</td>\n",
              "      <td>1</td>\n",
              "      <td>1</td>\n",
              "      <td>0</td>\n",
              "      <td>0</td>\n",
              "      <td>0</td>\n",
              "      <td>0</td>\n",
              "      <td>0</td>\n",
              "      <td>0</td>\n",
              "      <td>0</td>\n",
              "      <td>0</td>\n",
              "      <td>0</td>\n",
              "      <td>1</td>\n",
              "      <td>0</td>\n",
              "      <td>0</td>\n",
              "      <td>0</td>\n",
              "      <td>1</td>\n",
              "      <td>0</td>\n",
              "    </tr>\n",
              "    <tr>\n",
              "      <th>2</th>\n",
              "      <td>3</td>\n",
              "      <td>60</td>\n",
              "      <td>68.0</td>\n",
              "      <td>11250</td>\n",
              "      <td>7</td>\n",
              "      <td>5</td>\n",
              "      <td>2001</td>\n",
              "      <td>2002</td>\n",
              "      <td>162.0</td>\n",
              "      <td>3</td>\n",
              "      <td>2</td>\n",
              "      <td>4</td>\n",
              "      <td>3</td>\n",
              "      <td>1</td>\n",
              "      <td>6</td>\n",
              "      <td>486</td>\n",
              "      <td>1</td>\n",
              "      <td>0</td>\n",
              "      <td>434</td>\n",
              "      <td>920</td>\n",
              "      <td>4</td>\n",
              "      <td>1</td>\n",
              "      <td>920</td>\n",
              "      <td>866</td>\n",
              "      <td>0</td>\n",
              "      <td>1786</td>\n",
              "      <td>1</td>\n",
              "      <td>0</td>\n",
              "      <td>2</td>\n",
              "      <td>1</td>\n",
              "      <td>3</td>\n",
              "      <td>1</td>\n",
              "      <td>3</td>\n",
              "      <td>6</td>\n",
              "      <td>1</td>\n",
              "      <td>3</td>\n",
              "      <td>2</td>\n",
              "      <td>2</td>\n",
              "      <td>608</td>\n",
              "      <td>3</td>\n",
              "      <td>...</td>\n",
              "      <td>0</td>\n",
              "      <td>0</td>\n",
              "      <td>0</td>\n",
              "      <td>0</td>\n",
              "      <td>0</td>\n",
              "      <td>0</td>\n",
              "      <td>0</td>\n",
              "      <td>0</td>\n",
              "      <td>0</td>\n",
              "      <td>0</td>\n",
              "      <td>0</td>\n",
              "      <td>1</td>\n",
              "      <td>0</td>\n",
              "      <td>0</td>\n",
              "      <td>0</td>\n",
              "      <td>0</td>\n",
              "      <td>0</td>\n",
              "      <td>0</td>\n",
              "      <td>0</td>\n",
              "      <td>0</td>\n",
              "      <td>0</td>\n",
              "      <td>0</td>\n",
              "      <td>0</td>\n",
              "      <td>1</td>\n",
              "      <td>1</td>\n",
              "      <td>0</td>\n",
              "      <td>0</td>\n",
              "      <td>0</td>\n",
              "      <td>0</td>\n",
              "      <td>0</td>\n",
              "      <td>0</td>\n",
              "      <td>0</td>\n",
              "      <td>0</td>\n",
              "      <td>0</td>\n",
              "      <td>1</td>\n",
              "      <td>0</td>\n",
              "      <td>0</td>\n",
              "      <td>0</td>\n",
              "      <td>1</td>\n",
              "      <td>0</td>\n",
              "    </tr>\n",
              "    <tr>\n",
              "      <th>3</th>\n",
              "      <td>4</td>\n",
              "      <td>70</td>\n",
              "      <td>60.0</td>\n",
              "      <td>9550</td>\n",
              "      <td>7</td>\n",
              "      <td>5</td>\n",
              "      <td>1915</td>\n",
              "      <td>1970</td>\n",
              "      <td>0.0</td>\n",
              "      <td>2</td>\n",
              "      <td>2</td>\n",
              "      <td>3</td>\n",
              "      <td>4</td>\n",
              "      <td>0</td>\n",
              "      <td>5</td>\n",
              "      <td>216</td>\n",
              "      <td>1</td>\n",
              "      <td>0</td>\n",
              "      <td>540</td>\n",
              "      <td>756</td>\n",
              "      <td>3</td>\n",
              "      <td>1</td>\n",
              "      <td>961</td>\n",
              "      <td>756</td>\n",
              "      <td>0</td>\n",
              "      <td>1717</td>\n",
              "      <td>1</td>\n",
              "      <td>0</td>\n",
              "      <td>1</td>\n",
              "      <td>0</td>\n",
              "      <td>3</td>\n",
              "      <td>1</td>\n",
              "      <td>3</td>\n",
              "      <td>7</td>\n",
              "      <td>1</td>\n",
              "      <td>4</td>\n",
              "      <td>1</td>\n",
              "      <td>3</td>\n",
              "      <td>642</td>\n",
              "      <td>3</td>\n",
              "      <td>...</td>\n",
              "      <td>0</td>\n",
              "      <td>0</td>\n",
              "      <td>0</td>\n",
              "      <td>0</td>\n",
              "      <td>0</td>\n",
              "      <td>0</td>\n",
              "      <td>0</td>\n",
              "      <td>0</td>\n",
              "      <td>1</td>\n",
              "      <td>0</td>\n",
              "      <td>0</td>\n",
              "      <td>0</td>\n",
              "      <td>0</td>\n",
              "      <td>0</td>\n",
              "      <td>0</td>\n",
              "      <td>0</td>\n",
              "      <td>0</td>\n",
              "      <td>0</td>\n",
              "      <td>0</td>\n",
              "      <td>0</td>\n",
              "      <td>0</td>\n",
              "      <td>0</td>\n",
              "      <td>0</td>\n",
              "      <td>1</td>\n",
              "      <td>1</td>\n",
              "      <td>0</td>\n",
              "      <td>0</td>\n",
              "      <td>0</td>\n",
              "      <td>0</td>\n",
              "      <td>0</td>\n",
              "      <td>0</td>\n",
              "      <td>0</td>\n",
              "      <td>0</td>\n",
              "      <td>0</td>\n",
              "      <td>1</td>\n",
              "      <td>0</td>\n",
              "      <td>0</td>\n",
              "      <td>0</td>\n",
              "      <td>0</td>\n",
              "      <td>0</td>\n",
              "    </tr>\n",
              "    <tr>\n",
              "      <th>4</th>\n",
              "      <td>5</td>\n",
              "      <td>60</td>\n",
              "      <td>84.0</td>\n",
              "      <td>14260</td>\n",
              "      <td>8</td>\n",
              "      <td>5</td>\n",
              "      <td>2000</td>\n",
              "      <td>2000</td>\n",
              "      <td>350.0</td>\n",
              "      <td>3</td>\n",
              "      <td>2</td>\n",
              "      <td>4</td>\n",
              "      <td>3</td>\n",
              "      <td>2</td>\n",
              "      <td>6</td>\n",
              "      <td>655</td>\n",
              "      <td>1</td>\n",
              "      <td>0</td>\n",
              "      <td>490</td>\n",
              "      <td>1145</td>\n",
              "      <td>4</td>\n",
              "      <td>1</td>\n",
              "      <td>1145</td>\n",
              "      <td>1053</td>\n",
              "      <td>0</td>\n",
              "      <td>2198</td>\n",
              "      <td>1</td>\n",
              "      <td>0</td>\n",
              "      <td>2</td>\n",
              "      <td>1</td>\n",
              "      <td>4</td>\n",
              "      <td>1</td>\n",
              "      <td>3</td>\n",
              "      <td>9</td>\n",
              "      <td>1</td>\n",
              "      <td>3</td>\n",
              "      <td>2</td>\n",
              "      <td>3</td>\n",
              "      <td>836</td>\n",
              "      <td>3</td>\n",
              "      <td>...</td>\n",
              "      <td>0</td>\n",
              "      <td>0</td>\n",
              "      <td>0</td>\n",
              "      <td>0</td>\n",
              "      <td>0</td>\n",
              "      <td>0</td>\n",
              "      <td>0</td>\n",
              "      <td>0</td>\n",
              "      <td>0</td>\n",
              "      <td>0</td>\n",
              "      <td>1</td>\n",
              "      <td>0</td>\n",
              "      <td>0</td>\n",
              "      <td>0</td>\n",
              "      <td>0</td>\n",
              "      <td>0</td>\n",
              "      <td>0</td>\n",
              "      <td>0</td>\n",
              "      <td>0</td>\n",
              "      <td>0</td>\n",
              "      <td>0</td>\n",
              "      <td>0</td>\n",
              "      <td>0</td>\n",
              "      <td>1</td>\n",
              "      <td>1</td>\n",
              "      <td>0</td>\n",
              "      <td>0</td>\n",
              "      <td>0</td>\n",
              "      <td>0</td>\n",
              "      <td>0</td>\n",
              "      <td>0</td>\n",
              "      <td>0</td>\n",
              "      <td>0</td>\n",
              "      <td>0</td>\n",
              "      <td>1</td>\n",
              "      <td>0</td>\n",
              "      <td>0</td>\n",
              "      <td>0</td>\n",
              "      <td>1</td>\n",
              "      <td>0</td>\n",
              "    </tr>\n",
              "  </tbody>\n",
              "</table>\n",
              "<p>5 rows × 306 columns</p>\n",
              "</div>"
            ],
            "text/plain": [
              "   Id  MSSubClass  ...  SaleCondition_Normal  SaleCondition_Partial\n",
              "0   1          60  ...                     1                      0\n",
              "1   2          20  ...                     1                      0\n",
              "2   3          60  ...                     1                      0\n",
              "3   4          70  ...                     0                      0\n",
              "4   5          60  ...                     1                      0\n",
              "\n",
              "[5 rows x 306 columns]"
            ]
          },
          "metadata": {
            "tags": []
          },
          "execution_count": 63
        }
      ]
    },
    {
      "cell_type": "markdown",
      "metadata": {
        "id": "LZf4aiq0Hae_"
      },
      "source": [
        "OverallQual is most closely related to SalePrice column"
      ]
    },
    {
      "cell_type": "code",
      "metadata": {
        "colab": {
          "base_uri": "https://localhost:8080/"
        },
        "id": "KB0qKdQYA_Ha",
        "outputId": "4a3d4a31-aa61-4757-cccf-1c3a86a6fcf5"
      },
      "source": [
        "df1.OverallQual.unique()\n",
        "#The OverallQual data are integer values in the interval 1 to 10 inclusive.\n"
      ],
      "execution_count": 64,
      "outputs": [
        {
          "output_type": "execute_result",
          "data": {
            "text/plain": [
              "array([ 7,  6,  8,  5,  9,  4,  3, 10,  2])"
            ]
          },
          "metadata": {
            "tags": []
          },
          "execution_count": 64
        }
      ]
    },
    {
      "cell_type": "markdown",
      "metadata": {
        "id": "0UjZgVwaHvBX"
      },
      "source": [
        "Creating pivot table for better understanding"
      ]
    },
    {
      "cell_type": "code",
      "metadata": {
        "colab": {
          "base_uri": "https://localhost:8080/",
          "height": 343
        },
        "id": "yNtxTldRF34Z",
        "outputId": "7b744d9c-1f7f-4718-df65-5f5d72c18d53"
      },
      "source": [
        "pivot = df1.pivot_table(index = 'OverallQual', values = 'SalePrice', aggfunc= np.median)\n",
        "pivot"
      ],
      "execution_count": 65,
      "outputs": [
        {
          "output_type": "execute_result",
          "data": {
            "text/html": [
              "<div>\n",
              "<style scoped>\n",
              "    .dataframe tbody tr th:only-of-type {\n",
              "        vertical-align: middle;\n",
              "    }\n",
              "\n",
              "    .dataframe tbody tr th {\n",
              "        vertical-align: top;\n",
              "    }\n",
              "\n",
              "    .dataframe thead th {\n",
              "        text-align: right;\n",
              "    }\n",
              "</style>\n",
              "<table border=\"1\" class=\"dataframe\">\n",
              "  <thead>\n",
              "    <tr style=\"text-align: right;\">\n",
              "      <th></th>\n",
              "      <th>SalePrice</th>\n",
              "    </tr>\n",
              "    <tr>\n",
              "      <th>OverallQual</th>\n",
              "      <th></th>\n",
              "    </tr>\n",
              "  </thead>\n",
              "  <tbody>\n",
              "    <tr>\n",
              "      <th>2</th>\n",
              "      <td>60000</td>\n",
              "    </tr>\n",
              "    <tr>\n",
              "      <th>3</th>\n",
              "      <td>85000</td>\n",
              "    </tr>\n",
              "    <tr>\n",
              "      <th>4</th>\n",
              "      <td>109008</td>\n",
              "    </tr>\n",
              "    <tr>\n",
              "      <th>5</th>\n",
              "      <td>133800</td>\n",
              "    </tr>\n",
              "    <tr>\n",
              "      <th>6</th>\n",
              "      <td>159250</td>\n",
              "    </tr>\n",
              "    <tr>\n",
              "      <th>7</th>\n",
              "      <td>199900</td>\n",
              "    </tr>\n",
              "    <tr>\n",
              "      <th>8</th>\n",
              "      <td>262250</td>\n",
              "    </tr>\n",
              "    <tr>\n",
              "      <th>9</th>\n",
              "      <td>328900</td>\n",
              "    </tr>\n",
              "    <tr>\n",
              "      <th>10</th>\n",
              "      <td>381750</td>\n",
              "    </tr>\n",
              "  </tbody>\n",
              "</table>\n",
              "</div>"
            ],
            "text/plain": [
              "             SalePrice\n",
              "OverallQual           \n",
              "2                60000\n",
              "3                85000\n",
              "4               109008\n",
              "5               133800\n",
              "6               159250\n",
              "7               199900\n",
              "8               262250\n",
              "9               328900\n",
              "10              381750"
            ]
          },
          "metadata": {
            "tags": []
          },
          "execution_count": 65
        }
      ]
    },
    {
      "cell_type": "code",
      "metadata": {
        "colab": {
          "base_uri": "https://localhost:8080/",
          "height": 286
        },
        "id": "CVmTIca8HN7K",
        "outputId": "6b9122e7-9693-453e-99fa-d5b7608e1583"
      },
      "source": [
        "pivot.plot(kind='bar', color='blue')\n",
        "plt.xlabel('Overall Quality')\n",
        "plt.ylabel('Median Sale Price')\n",
        "plt.xticks(rotation=0)\n",
        "plt.show()\n",
        "# We see that the median sales price strictly increases as Overall Quality increases."
      ],
      "execution_count": 66,
      "outputs": [
        {
          "output_type": "display_data",
          "data": {
            "image/png": "[encoded data removed]",
            "text/plain": [
              "<Figure size 432x288 with 1 Axes>"
            ]
          },
          "metadata": {
            "tags": [],
            "needs_background": "light"
          }
        }
      ]
    },
    {
      "cell_type": "code",
      "metadata": {
        "colab": {
          "base_uri": "https://localhost:8080/"
        },
        "id": "xTCOdrzW7Ygj",
        "outputId": "241764a0-2b43-4af9-f529-6eeee3847596"
      },
      "source": [
        "numeric_features = df1.select_dtypes(include=[np.number])\n",
        "numeric_features.dtypes\n",
        "\n"
      ],
      "execution_count": 67,
      "outputs": [
        {
          "output_type": "execute_result",
          "data": {
            "text/plain": [
              "Id                         int64\n",
              "MSSubClass                 int64\n",
              "LotFrontage              float64\n",
              "LotArea                    int64\n",
              "OverallQual                int64\n",
              "                          ...   \n",
              "SaleCondition_AdjLand      uint8\n",
              "SaleCondition_Alloca       uint8\n",
              "SaleCondition_Family       uint8\n",
              "SaleCondition_Normal       uint8\n",
              "SaleCondition_Partial      uint8\n",
              "Length: 306, dtype: object"
            ]
          },
          "metadata": {
            "tags": []
          },
          "execution_count": 67
        }
      ]
    },
    {
      "cell_type": "markdown",
      "metadata": {
        "id": "URFLfD7ovvmU"
      },
      "source": [
        "Pearson r correlation: Pearson r correlation is the most widely used correlation statistic to measure the degree of the relationship between linearly related variables. For example, in the stock market, if we want to measure how two stocks are related to each other, Pearson r correlation is used to measure the degree of relationship between the two. The point-biserial correlation is conducted with the Pearson correlation formula except that one of the variables is dichotomous. The following formula is used to calculate the Pearson r correlation:\n",
        "\n",
        "\n",
        "\n",
        "rxy = Pearson r correlation coefficient between x and y\n",
        "n = number of observations\n",
        "xi = value of x (for ith observation)\n",
        "yi = value of y (for ith observation)\n",
        "\n",
        "Assumptions\n",
        "\n",
        "For the Pearson r correlation, both variables should be normally distributed (normally distributed variables have a bell-shaped curve).  Other assumptions include linearity and homoscedasticity.  Linearity assumes a straight line relationship between each of the two variables and homoscedasticity assumes that data is equally distributed about the regression line.\n",
        "\n"
      ]
    },
    {
      "cell_type": "code",
      "metadata": {
        "colab": {
          "base_uri": "https://localhost:8080/"
        },
        "id": "uHfAdyIBvvmV",
        "outputId": "9fbe1d19-7413-4fd9-bfb0-78c505b75f2e"
      },
      "source": [
        "corr = numeric_features.corr(method = 'pearson')\n",
        "corr_top = corr['SalePrice'].sort_values(ascending=False)[:10]\n",
        "top_features = corr_top.index[1:]\n",
        "print(corr_top,'\\n')\n",
        "\n",
        "print(corr['SalePrice'].sort_values(ascending=False)[-10:])\n",
        "#pearson can't be used as the correlation method because it requires both variables to be normally distributed."
      ],
      "execution_count": 68,
      "outputs": [
        {
          "output_type": "stream",
          "text": [
            "SalePrice      1.000000\n",
            "TotalSF        0.805195\n",
            "OverallQual    0.796055\n",
            "GrLivArea      0.697444\n",
            "ExterQual      0.685524\n",
            "KitchenQual    0.663243\n",
            "BsmtQual       0.661637\n",
            "GarageCars     0.659490\n",
            "TotalBath      0.632327\n",
            "GarageArea     0.631676\n",
            "Name: SalePrice, dtype: float64 \n",
            "\n",
            "Exterior1st_Wd Sdng    -0.205346\n",
            "SaleType_WD            -0.224656\n",
            "Neighborhood_OldTown   -0.244686\n",
            "GarageType_None        -0.254425\n",
            "GarageYrBlt_None       -0.254425\n",
            "LotShape_Reg           -0.279581\n",
            "MSZoning_RM            -0.343316\n",
            "Foundation_CBlock      -0.378772\n",
            "GarageType_Detchd      -0.382228\n",
            "MasVnrType_None        -0.383375\n",
            "Name: SalePrice, dtype: float64\n"
          ],
          "name": "stdout"
        }
      ]
    },
    {
      "cell_type": "markdown",
      "metadata": {
        "id": "3PqSHO6dvvmW"
      },
      "source": [
        "Kendall rank correlation: Kendall rank correlation is a non-parametric test that measures the strength of dependence between two variables.  If we consider two samples, a and b, where each sample size is n, we know that the total number of pairings with a b is n(n-1)/2.  The following formula is used to calculate the value of Kendall rank correlation:\n",
        "\n",
        "kendall rank correlation\n",
        "Nc= number of concordant\n",
        "Nd= Number of discordant\n",
        "\n",
        "What is concordance and disconcordance?\n",
        "\n",
        "Used with ordinal ranking.\n",
        "\n",
        "Measure of agreement between ranks.\n",
        "\n",
        "Must be ordered and paired.\n",
        "\n",
        "*Tie: ranks agree\n",
        "\n",
        "*Concordant ranks: Number of ranks scored below a given rank- measure of agreement.\n",
        "\n",
        "*Discordant ranks: Number of ranks scored above a rank - measure of disagreement.\n",
        "\n",
        "\n",
        "\n",
        "\n"
      ]
    },
    {
      "cell_type": "code",
      "metadata": {
        "colab": {
          "base_uri": "https://localhost:8080/"
        },
        "id": "LGAroCAQvvmX",
        "outputId": "970c8610-7bd4-47fc-c9f5-9b8c1ed921d5"
      },
      "source": [
        "corr = numeric_features.corr(method = 'kendall')\n",
        "corr_top = corr['SalePrice'].sort_values(ascending=False)[:20]\n",
        "top_features = corr_top.index[1:]\n",
        "print(corr_top,'\\n')\n",
        "\n",
        "print(corr['SalePrice'].sort_values(ascending=False)[-10:])\n",
        "#Kendall's tau is used in small samples or when we have many values with the same score.\n"
      ],
      "execution_count": 69,
      "outputs": [
        {
          "output_type": "stream",
          "text": [
            "SalePrice           1.000000\n",
            "OverallQual         0.652222\n",
            "TotalSF             0.614542\n",
            "GarageCars          0.565236\n",
            "ExterQual           0.553906\n",
            "KitchenQual         0.543788\n",
            "BsmtQual            0.543249\n",
            "TotalBath           0.536098\n",
            "GrLivArea           0.528111\n",
            "FullBath            0.524421\n",
            "GarageFinish        0.501729\n",
            "YearBuilt           0.484008\n",
            "Foundation_PConc    0.465260\n",
            "GarageArea          0.459698\n",
            "YearRemodAdd        0.411427\n",
            "FireplaceQu         0.394524\n",
            "TotalBsmtSF         0.390201\n",
            "TotRmsAbvGrd        0.388337\n",
            "1stFlrSF            0.388324\n",
            "Fireplaces          0.385322\n",
            "Name: SalePrice, dtype: float64 \n",
            "\n",
            "Exterior1st_Wd Sdng    -0.182038\n",
            "EnclosedPorch          -0.195499\n",
            "Neighborhood_OldTown   -0.239703\n",
            "GarageYrBlt_None       -0.241545\n",
            "GarageType_None        -0.241545\n",
            "LotShape_Reg           -0.259686\n",
            "MasVnrType_None        -0.308942\n",
            "Foundation_CBlock      -0.324552\n",
            "MSZoning_RM            -0.337522\n",
            "GarageType_Detchd      -0.361109\n",
            "Name: SalePrice, dtype: float64\n"
          ],
          "name": "stdout"
        }
      ]
    },
    {
      "cell_type": "markdown",
      "metadata": {
        "id": "w445mWFdvvmY"
      },
      "source": [
        "Spearman rank correlation: Spearman rank correlation is a non-parametric test that is used to measure the degree of association \n",
        "\n",
        "between two variables.  The Spearman rank correlation test does not carry any assumptions about the distribution of the data and \n",
        "\n",
        "is the appropriate correlation analysis when the variables are measured on a scale that is at least ordinal.\n",
        "\n",
        "The following formula is used to calculate the Spearman rank correlation:\n",
        "\n",
        "spearman rank correlation\n",
        "\n",
        "ρ= Spearman rank correlation\n",
        "\n",
        "di= the difference between the ranks of corresponding variables\n",
        "\n",
        "n= number of observations\n",
        "\n",
        "\n",
        "Assumptions\n",
        "\n",
        "The assumptions of the Spearman correlation are that data must be at least ordinal and the scores on one variable must be \n",
        "\n",
        "monotonically related to the other variable.\n",
        "\n",
        "What is monotonic?\n",
        "\n",
        "Generally as X goes up, so does Y OR, as X goes up in values, Y goes down in value.\n",
        "\n",
        "![image.png](attachment:image.png)\n",
        "\n"
      ]
    },
    {
      "cell_type": "code",
      "metadata": {
        "colab": {
          "base_uri": "https://localhost:8080/"
        },
        "id": "QBRxWl6VvvmZ",
        "outputId": "276a5792-13af-4976-cb11-db9262319951"
      },
      "source": [
        "corr = numeric_features.corr(method = 'spearman')\n",
        "corr_top = corr['SalePrice'].sort_values(ascending=False)[:20]\n",
        "top_features = corr_top.index[1:]\n",
        "print(corr_top,'\\n')\n",
        "\n",
        "print(corr['SalePrice'].sort_values(ascending=False)[-10:])"
      ],
      "execution_count": 70,
      "outputs": [
        {
          "output_type": "stream",
          "text": [
            "SalePrice           1.000000\n",
            "TotalSF             0.794382\n",
            "OverallQual         0.792520\n",
            "GrLivArea           0.714272\n",
            "TotalBath           0.686227\n",
            "GarageCars          0.683119\n",
            "ExterQual           0.673895\n",
            "YearBuilt           0.670623\n",
            "KitchenQual         0.662577\n",
            "BsmtQual            0.662007\n",
            "FullBath            0.644147\n",
            "GarageFinish        0.633807\n",
            "GarageArea          0.626460\n",
            "YearRemodAdd        0.569499\n",
            "Foundation_PConc    0.568828\n",
            "TotalBsmtSF         0.545644\n",
            "1stFlrSF            0.544928\n",
            "TotRmsAbvGrd        0.505419\n",
            "FireplaceQu         0.500403\n",
            "Fireplaces          0.484307\n",
            "Name: SalePrice, dtype: float64 \n",
            "\n",
            "Exterior1st_Wd Sdng    -0.222560\n",
            "EnclosedPorch          -0.248449\n",
            "Neighborhood_OldTown   -0.293061\n",
            "GarageType_None        -0.295314\n",
            "GarageYrBlt_None       -0.295314\n",
            "LotShape_Reg           -0.317492\n",
            "MasVnrType_None        -0.377713\n",
            "Foundation_CBlock      -0.396798\n",
            "MSZoning_RM            -0.412654\n",
            "GarageType_Detchd      -0.441492\n",
            "Name: SalePrice, dtype: float64\n"
          ],
          "name": "stdout"
        }
      ]
    },
    {
      "cell_type": "code",
      "metadata": {
        "colab": {
          "base_uri": "https://localhost:8080/"
        },
        "id": "h7ANo_mMvvma",
        "outputId": "498fb584-2c40-44c8-b8d8-b709d93bd18a"
      },
      "source": [
        "df1['OverallQual'].skew()\n",
        "#skewness is near to zero.Therefore it is normally distributed."
      ],
      "execution_count": 71,
      "outputs": [
        {
          "output_type": "execute_result",
          "data": {
            "text/plain": [
              "0.18344720499443845"
            ]
          },
          "metadata": {
            "tags": []
          },
          "execution_count": 71
        }
      ]
    },
    {
      "cell_type": "code",
      "metadata": {
        "id": "J2gJbeTCvvmb"
      },
      "source": [
        "#According to me Spearman correlation is most most suitable way to check the correlation here becuase we have many features that have ordinal data.\n",
        "#Even if the data is numeric, incase if spearman it will take their ranks and it will convert into ordinal data."
      ],
      "execution_count": 72,
      "outputs": []
    },
    {
      "cell_type": "code",
      "metadata": {
        "colab": {
          "base_uri": "https://localhost:8080/",
          "height": 155
        },
        "id": "xaIZBxZ6vvmc",
        "outputId": "a52fb0ea-d492-4831-cdeb-984944f6024c"
      },
      "source": [
        "df1.head(2)"
      ],
      "execution_count": 73,
      "outputs": [
        {
          "output_type": "execute_result",
          "data": {
            "text/html": [
              "<div>\n",
              "<style scoped>\n",
              "    .dataframe tbody tr th:only-of-type {\n",
              "        vertical-align: middle;\n",
              "    }\n",
              "\n",
              "    .dataframe tbody tr th {\n",
              "        vertical-align: top;\n",
              "    }\n",
              "\n",
              "    .dataframe thead th {\n",
              "        text-align: right;\n",
              "    }\n",
              "</style>\n",
              "<table border=\"1\" class=\"dataframe\">\n",
              "  <thead>\n",
              "    <tr style=\"text-align: right;\">\n",
              "      <th></th>\n",
              "      <th>Id</th>\n",
              "      <th>MSSubClass</th>\n",
              "      <th>LotFrontage</th>\n",
              "      <th>LotArea</th>\n",
              "      <th>OverallQual</th>\n",
              "      <th>OverallCond</th>\n",
              "      <th>YearBuilt</th>\n",
              "      <th>YearRemodAdd</th>\n",
              "      <th>MasVnrArea</th>\n",
              "      <th>ExterQual</th>\n",
              "      <th>ExterCond</th>\n",
              "      <th>BsmtQual</th>\n",
              "      <th>BsmtCond</th>\n",
              "      <th>BsmtExposure</th>\n",
              "      <th>BsmtFinType1</th>\n",
              "      <th>BsmtFinSF1</th>\n",
              "      <th>BsmtFinType2</th>\n",
              "      <th>BsmtFinSF2</th>\n",
              "      <th>BsmtUnfSF</th>\n",
              "      <th>TotalBsmtSF</th>\n",
              "      <th>HeatingQC</th>\n",
              "      <th>CentralAir</th>\n",
              "      <th>1stFlrSF</th>\n",
              "      <th>2ndFlrSF</th>\n",
              "      <th>LowQualFinSF</th>\n",
              "      <th>GrLivArea</th>\n",
              "      <th>BsmtFullBath</th>\n",
              "      <th>BsmtHalfBath</th>\n",
              "      <th>FullBath</th>\n",
              "      <th>HalfBath</th>\n",
              "      <th>BedroomAbvGr</th>\n",
              "      <th>KitchenAbvGr</th>\n",
              "      <th>KitchenQual</th>\n",
              "      <th>TotRmsAbvGrd</th>\n",
              "      <th>Fireplaces</th>\n",
              "      <th>FireplaceQu</th>\n",
              "      <th>GarageFinish</th>\n",
              "      <th>GarageCars</th>\n",
              "      <th>GarageArea</th>\n",
              "      <th>GarageQual</th>\n",
              "      <th>...</th>\n",
              "      <th>GarageYrBlt_1990.0</th>\n",
              "      <th>GarageYrBlt_1991.0</th>\n",
              "      <th>GarageYrBlt_1992.0</th>\n",
              "      <th>GarageYrBlt_1993.0</th>\n",
              "      <th>GarageYrBlt_1994.0</th>\n",
              "      <th>GarageYrBlt_1995.0</th>\n",
              "      <th>GarageYrBlt_1996.0</th>\n",
              "      <th>GarageYrBlt_1997.0</th>\n",
              "      <th>GarageYrBlt_1998.0</th>\n",
              "      <th>GarageYrBlt_1999.0</th>\n",
              "      <th>GarageYrBlt_2000.0</th>\n",
              "      <th>GarageYrBlt_2001.0</th>\n",
              "      <th>GarageYrBlt_2002.0</th>\n",
              "      <th>GarageYrBlt_2003.0</th>\n",
              "      <th>GarageYrBlt_2004.0</th>\n",
              "      <th>GarageYrBlt_2005.0</th>\n",
              "      <th>GarageYrBlt_2006.0</th>\n",
              "      <th>GarageYrBlt_2007.0</th>\n",
              "      <th>GarageYrBlt_2008.0</th>\n",
              "      <th>GarageYrBlt_2009.0</th>\n",
              "      <th>GarageYrBlt_2010.0</th>\n",
              "      <th>GarageYrBlt_None</th>\n",
              "      <th>PavedDrive_P</th>\n",
              "      <th>PavedDrive_Y</th>\n",
              "      <th>MiscFeature_None</th>\n",
              "      <th>MiscFeature_Othr</th>\n",
              "      <th>MiscFeature_Shed</th>\n",
              "      <th>SaleType_CWD</th>\n",
              "      <th>SaleType_Con</th>\n",
              "      <th>SaleType_ConLD</th>\n",
              "      <th>SaleType_ConLI</th>\n",
              "      <th>SaleType_ConLw</th>\n",
              "      <th>SaleType_New</th>\n",
              "      <th>SaleType_Oth</th>\n",
              "      <th>SaleType_WD</th>\n",
              "      <th>SaleCondition_AdjLand</th>\n",
              "      <th>SaleCondition_Alloca</th>\n",
              "      <th>SaleCondition_Family</th>\n",
              "      <th>SaleCondition_Normal</th>\n",
              "      <th>SaleCondition_Partial</th>\n",
              "    </tr>\n",
              "  </thead>\n",
              "  <tbody>\n",
              "    <tr>\n",
              "      <th>0</th>\n",
              "      <td>1</td>\n",
              "      <td>60</td>\n",
              "      <td>65.0</td>\n",
              "      <td>8450</td>\n",
              "      <td>7</td>\n",
              "      <td>5</td>\n",
              "      <td>2003</td>\n",
              "      <td>2003</td>\n",
              "      <td>196.0</td>\n",
              "      <td>3</td>\n",
              "      <td>2</td>\n",
              "      <td>4</td>\n",
              "      <td>3</td>\n",
              "      <td>0</td>\n",
              "      <td>6</td>\n",
              "      <td>706</td>\n",
              "      <td>1</td>\n",
              "      <td>0</td>\n",
              "      <td>150</td>\n",
              "      <td>856</td>\n",
              "      <td>4</td>\n",
              "      <td>1</td>\n",
              "      <td>856</td>\n",
              "      <td>854</td>\n",
              "      <td>0</td>\n",
              "      <td>1710</td>\n",
              "      <td>1</td>\n",
              "      <td>0</td>\n",
              "      <td>2</td>\n",
              "      <td>1</td>\n",
              "      <td>3</td>\n",
              "      <td>1</td>\n",
              "      <td>3</td>\n",
              "      <td>8</td>\n",
              "      <td>0</td>\n",
              "      <td>0</td>\n",
              "      <td>2</td>\n",
              "      <td>2</td>\n",
              "      <td>548</td>\n",
              "      <td>3</td>\n",
              "      <td>...</td>\n",
              "      <td>0</td>\n",
              "      <td>0</td>\n",
              "      <td>0</td>\n",
              "      <td>0</td>\n",
              "      <td>0</td>\n",
              "      <td>0</td>\n",
              "      <td>0</td>\n",
              "      <td>0</td>\n",
              "      <td>0</td>\n",
              "      <td>0</td>\n",
              "      <td>0</td>\n",
              "      <td>0</td>\n",
              "      <td>0</td>\n",
              "      <td>1</td>\n",
              "      <td>0</td>\n",
              "      <td>0</td>\n",
              "      <td>0</td>\n",
              "      <td>0</td>\n",
              "      <td>0</td>\n",
              "      <td>0</td>\n",
              "      <td>0</td>\n",
              "      <td>0</td>\n",
              "      <td>0</td>\n",
              "      <td>1</td>\n",
              "      <td>1</td>\n",
              "      <td>0</td>\n",
              "      <td>0</td>\n",
              "      <td>0</td>\n",
              "      <td>0</td>\n",
              "      <td>0</td>\n",
              "      <td>0</td>\n",
              "      <td>0</td>\n",
              "      <td>0</td>\n",
              "      <td>0</td>\n",
              "      <td>1</td>\n",
              "      <td>0</td>\n",
              "      <td>0</td>\n",
              "      <td>0</td>\n",
              "      <td>1</td>\n",
              "      <td>0</td>\n",
              "    </tr>\n",
              "    <tr>\n",
              "      <th>1</th>\n",
              "      <td>2</td>\n",
              "      <td>20</td>\n",
              "      <td>80.0</td>\n",
              "      <td>9600</td>\n",
              "      <td>6</td>\n",
              "      <td>8</td>\n",
              "      <td>1976</td>\n",
              "      <td>1976</td>\n",
              "      <td>0.0</td>\n",
              "      <td>2</td>\n",
              "      <td>2</td>\n",
              "      <td>4</td>\n",
              "      <td>3</td>\n",
              "      <td>3</td>\n",
              "      <td>5</td>\n",
              "      <td>978</td>\n",
              "      <td>1</td>\n",
              "      <td>0</td>\n",
              "      <td>284</td>\n",
              "      <td>1262</td>\n",
              "      <td>4</td>\n",
              "      <td>1</td>\n",
              "      <td>1262</td>\n",
              "      <td>0</td>\n",
              "      <td>0</td>\n",
              "      <td>1262</td>\n",
              "      <td>0</td>\n",
              "      <td>1</td>\n",
              "      <td>2</td>\n",
              "      <td>0</td>\n",
              "      <td>3</td>\n",
              "      <td>1</td>\n",
              "      <td>2</td>\n",
              "      <td>6</td>\n",
              "      <td>1</td>\n",
              "      <td>3</td>\n",
              "      <td>2</td>\n",
              "      <td>2</td>\n",
              "      <td>460</td>\n",
              "      <td>3</td>\n",
              "      <td>...</td>\n",
              "      <td>0</td>\n",
              "      <td>0</td>\n",
              "      <td>0</td>\n",
              "      <td>0</td>\n",
              "      <td>0</td>\n",
              "      <td>0</td>\n",
              "      <td>0</td>\n",
              "      <td>0</td>\n",
              "      <td>0</td>\n",
              "      <td>0</td>\n",
              "      <td>0</td>\n",
              "      <td>0</td>\n",
              "      <td>0</td>\n",
              "      <td>0</td>\n",
              "      <td>0</td>\n",
              "      <td>0</td>\n",
              "      <td>0</td>\n",
              "      <td>0</td>\n",
              "      <td>0</td>\n",
              "      <td>0</td>\n",
              "      <td>0</td>\n",
              "      <td>0</td>\n",
              "      <td>0</td>\n",
              "      <td>1</td>\n",
              "      <td>1</td>\n",
              "      <td>0</td>\n",
              "      <td>0</td>\n",
              "      <td>0</td>\n",
              "      <td>0</td>\n",
              "      <td>0</td>\n",
              "      <td>0</td>\n",
              "      <td>0</td>\n",
              "      <td>0</td>\n",
              "      <td>0</td>\n",
              "      <td>1</td>\n",
              "      <td>0</td>\n",
              "      <td>0</td>\n",
              "      <td>0</td>\n",
              "      <td>1</td>\n",
              "      <td>0</td>\n",
              "    </tr>\n",
              "  </tbody>\n",
              "</table>\n",
              "<p>2 rows × 306 columns</p>\n",
              "</div>"
            ],
            "text/plain": [
              "   Id  MSSubClass  ...  SaleCondition_Normal  SaleCondition_Partial\n",
              "0   1          60  ...                     1                      0\n",
              "1   2          20  ...                     1                      0\n",
              "\n",
              "[2 rows x 306 columns]"
            ]
          },
          "metadata": {
            "tags": []
          },
          "execution_count": 73
        }
      ]
    },
    {
      "cell_type": "code",
      "metadata": {
        "colab": {
          "base_uri": "https://localhost:8080/"
        },
        "id": "jC-Zvo-nvvmg",
        "outputId": "28e8edf5-4f7c-40c0-adb8-d89505389c83"
      },
      "source": [
        "df1.shape"
      ],
      "execution_count": 74,
      "outputs": [
        {
          "output_type": "execute_result",
          "data": {
            "text/plain": [
              "(1338, 306)"
            ]
          },
          "metadata": {
            "tags": []
          },
          "execution_count": 74
        }
      ]
    },
    {
      "cell_type": "code",
      "metadata": {
        "colab": {
          "base_uri": "https://localhost:8080/"
        },
        "id": "kqQTwuLLvvmh",
        "outputId": "b68ec6a1-3f7e-442b-b746-157df73cb7c0"
      },
      "source": [
        "df1.columns"
      ],
      "execution_count": 75,
      "outputs": [
        {
          "output_type": "execute_result",
          "data": {
            "text/plain": [
              "Index(['Id', 'MSSubClass', 'LotFrontage', 'LotArea', 'OverallQual',\n",
              "       'OverallCond', 'YearBuilt', 'YearRemodAdd', 'MasVnrArea', 'ExterQual',\n",
              "       ...\n",
              "       'SaleType_ConLI', 'SaleType_ConLw', 'SaleType_New', 'SaleType_Oth',\n",
              "       'SaleType_WD', 'SaleCondition_AdjLand', 'SaleCondition_Alloca',\n",
              "       'SaleCondition_Family', 'SaleCondition_Normal',\n",
              "       'SaleCondition_Partial'],\n",
              "      dtype='object', length=306)"
            ]
          },
          "metadata": {
            "tags": []
          },
          "execution_count": 75
        }
      ]
    },
    {
      "cell_type": "code",
      "metadata": {
        "colab": {
          "base_uri": "https://localhost:8080/",
          "height": 374
        },
        "id": "wPQLILNrvvmh",
        "outputId": "dd3acafe-4b8e-4143-a5e6-cf815aba509d"
      },
      "source": [
        "sns.distplot(df1['OverallQual'])\n",
        "plt.xticks(rotation = 30)\n",
        "#Skewness of OverallQual is near to zero"
      ],
      "execution_count": 76,
      "outputs": [
        {
          "output_type": "stream",
          "text": [
            "/usr/local/lib/python3.7/dist-packages/seaborn/distributions.py:2557: FutureWarning: `distplot` is a deprecated function and will be removed in a future version. Please adapt your code to use either `displot` (a figure-level function with similar flexibility) or `histplot` (an axes-level function for histograms).\n",
            "  warnings.warn(msg, FutureWarning)\n"
          ],
          "name": "stderr"
        },
        {
          "output_type": "execute_result",
          "data": {
            "text/plain": [
              "(array([ 0.,  2.,  4.,  6.,  8., 10., 12.]),\n",
              " <a list of 7 Text major ticklabel objects>)"
            ]
          },
          "metadata": {
            "tags": []
          },
          "execution_count": 76
        },
        {
          "output_type": "display_data",
          "data": {
            "image/png": "[encoded data removed]",
            "text/plain": [
              "<Figure size 432x288 with 1 Axes>"
            ]
          },
          "metadata": {
            "tags": [],
            "needs_background": "light"
          }
        }
      ]
    },
    {
      "cell_type": "code",
      "metadata": {
        "id": "p6HeUowAvvmi"
      },
      "source": [
        "from sklearn.model_selection import train_test_split\n",
        "\n",
        "X= df1\n",
        "y = target\n",
        "\n",
        "# training and validation set\n",
        "X_train,X_test,y_train,y_test = train_test_split(X,y,test_size=0.2,random_state = 48)\n"
      ],
      "execution_count": 77,
      "outputs": []
    },
    {
      "cell_type": "code",
      "metadata": {
        "colab": {
          "base_uri": "https://localhost:8080/"
        },
        "id": "9szXcooIvvmj",
        "outputId": "31854b70-fa7b-4efd-f61e-e5475b1ce4e4"
      },
      "source": [
        "from sklearn.metrics import mean_squared_error\n",
        "from sklearn import linear_model\n",
        "\n",
        "classifiers = [\n",
        "    linear_model.BayesianRidge(),\n",
        "    linear_model.Ridge(alpha =8) #chose 8 after trying various values randomly\n",
        "    \n",
        "\n",
        "]\n",
        "\n",
        "\n",
        "for item in classifiers:\n",
        "    print('\\033[1m' ,item,'\\n','\\033[0m')\n",
        "    clf = item\n",
        "    clf.fit(X_train, y_train)\n",
        "    print('Accuracy score is: \\n',clf.score(X_test, y_test),'\\n')\n",
        "    print ('RMSE is: \\n', mean_squared_error(y_test, clf.predict(X_test)),'\\n')\n",
        "\n",
        "    \n",
        "    \n"
      ],
      "execution_count": 78,
      "outputs": [
        {
          "output_type": "stream",
          "text": [
            "\u001b[1m BayesianRidge(alpha_1=1e-06, alpha_2=1e-06, alpha_init=None,\n",
            "              compute_score=False, copy_X=True, fit_intercept=True,\n",
            "              lambda_1=1e-06, lambda_2=1e-06, lambda_init=None, n_iter=300,\n",
            "              normalize=False, tol=0.001, verbose=False) \n",
            " \u001b[0m\n",
            "Accuracy score is: \n",
            " 0.9584705154614657 \n",
            "\n",
            "RMSE is: \n",
            " 0.00556352240779144 \n",
            "\n",
            "\u001b[1m Ridge(alpha=8, copy_X=True, fit_intercept=True, max_iter=None, normalize=False,\n",
            "      random_state=None, solver='auto', tol=0.001) \n",
            " \u001b[0m\n",
            "Accuracy score is: \n",
            " 0.9594985576723933 \n",
            "\n",
            "RMSE is: \n",
            " 0.005425800113854845 \n",
            "\n"
          ],
          "name": "stdout"
        }
      ]
    },
    {
      "cell_type": "markdown",
      "metadata": {
        "id": "K-qxDP9lvvmj"
      },
      "source": [
        "We can see that accuracy as well as RMSE of both the models are very close. "
      ]
    },
    {
      "cell_type": "markdown",
      "metadata": {
        "id": "LB10JQqaKSy8"
      },
      "source": [
        " Ridge Regularization to decrease the influence of less important features. Ridge Regularization is a process which shrinks the regression coefficients of less important features."
      ]
    },
    {
      "cell_type": "markdown",
      "metadata": {
        "id": "duveg2NWb5C_"
      },
      "source": [
        "We have many features in this dataset and not all of them are important features. Therefore we are using ridge regression."
      ]
    },
    {
      "cell_type": "code",
      "metadata": {
        "id": "5NaIu7CGvvml"
      },
      "source": [
        "from sklearn.linear_model import Ridge\n"
      ],
      "execution_count": 79,
      "outputs": []
    },
    {
      "cell_type": "code",
      "metadata": {
        "id": "u_VtpqRBel0H"
      },
      "source": [
        "model = Ridge(alpha =8)"
      ],
      "execution_count": 80,
      "outputs": []
    },
    {
      "cell_type": "code",
      "metadata": {
        "colab": {
          "base_uri": "https://localhost:8080/"
        },
        "id": "z-QScNJLgK19",
        "outputId": "73d96b9f-915f-454e-dfaa-6ecf792230ea"
      },
      "source": [
        "model.fit(X_train,y_train)"
      ],
      "execution_count": 81,
      "outputs": [
        {
          "output_type": "execute_result",
          "data": {
            "text/plain": [
              "Ridge(alpha=8, copy_X=True, fit_intercept=True, max_iter=None, normalize=False,\n",
              "      random_state=None, solver='auto', tol=0.001)"
            ]
          },
          "metadata": {
            "tags": []
          },
          "execution_count": 81
        }
      ]
    },
    {
      "cell_type": "code",
      "metadata": {
        "id": "5irBUD3GCXxi"
      },
      "source": [
        "log_pred = model.predict(X_test)\n",
        "actual_pred= np.exp(log_pred)"
      ],
      "execution_count": 82,
      "outputs": []
    },
    {
      "cell_type": "code",
      "metadata": {
        "id": "zHKvVgU9Ezfc"
      },
      "source": [
        "test_id = X_test['Id'] "
      ],
      "execution_count": 83,
      "outputs": []
    },
    {
      "cell_type": "code",
      "metadata": {
        "id": "344ohEOPDQ6F"
      },
      "source": [
        "data_dict = {'Id':test_id,'SalePrice':actual_pred}\n"
      ],
      "execution_count": 84,
      "outputs": []
    },
    {
      "cell_type": "code",
      "metadata": {
        "id": "i9WkF8h5DCTr"
      },
      "source": [
        "submit = pd.DataFrame(data_dict)\n",
        "submit.to_csv('submission.csv',index=False)\n"
      ],
      "execution_count": 85,
      "outputs": []
    },
    {
      "cell_type": "code",
      "metadata": {
        "id": "iNhMNjrdLEhM"
      },
      "source": [
        "predictions = model.predict(X_test)"
      ],
      "execution_count": 86,
      "outputs": []
    },
    {
      "cell_type": "markdown",
      "metadata": {
        "id": "xSwzny0KMnW6"
      },
      "source": [
        "he RMSE measures the distance between our predicted values and actual values."
      ]
    },
    {
      "cell_type": "markdown",
      "metadata": {
        "id": "YXIWF1n4L_ii"
      },
      "source": [
        "The r-squared value. The r-squared value is a measure of how close the data are to the fitted regression line. It takes a value between 0 and 1, 1 meaning that all of the variance in the target is explained by the data. In general, a higher r-squared value means a better fit."
      ]
    },
    {
      "cell_type": "code",
      "metadata": {
        "colab": {
          "base_uri": "https://localhost:8080/"
        },
        "id": "Yhtq8B6QLxPi",
        "outputId": "23a963ae-9393-4301-b96a-fdcff38e450c"
      },
      "source": [
        "print (\"R^2 is: \\n\", model.score(X_test, y_test))\n",
        "\n",
        "#This means that our features explain approximately 96% of the variance in our target variable."
      ],
      "execution_count": 87,
      "outputs": [
        {
          "output_type": "stream",
          "text": [
            "R^2 is: \n",
            " 0.9594985576723933\n"
          ],
          "name": "stdout"
        }
      ]
    },
    {
      "cell_type": "code",
      "metadata": {
        "colab": {
          "base_uri": "https://localhost:8080/",
          "height": 299
        },
        "id": "W3DWo21wMaxt",
        "outputId": "c7d98fcb-bdcb-4642-883a-06432cf01d88"
      },
      "source": [
        "actual_values = y_test\n",
        "plt.scatter(predictions, actual_values, alpha=.7,\n",
        "            color='b') #alpha helps to show overlapping data\n",
        "plt.xlabel('Predicted Price')\n",
        "plt.ylabel('Actual Price')\n",
        "plt.title('Ridge Regression Model')\n",
        "plt.show()\n"
      ],
      "execution_count": 88,
      "outputs": [
        {
          "output_type": "display_data",
          "data": {
            "image/png": "[encoded data removed]",
            "text/plain": [
              "<Figure size 432x288 with 1 Axes>"
            ]
          },
          "metadata": {
            "tags": [],
            "needs_background": "light"
          }
        }
      ]
    },
    {
      "cell_type": "markdown",
      "metadata": {
        "id": "aVIXL-IUMuVa"
      },
      "source": [
        "We can see that the graph is very much linear.Therefore the actual price and predicted price are coinciding."
      ]
    },
    {
      "cell_type": "code",
      "metadata": {
        "id": "5MO9C4gHvvmo"
      },
      "source": [
        "from sklearn.model_selection import LeaveOneOut\n",
        "from sklearn.model_selection import cross_val_score"
      ],
      "execution_count": 89,
      "outputs": []
    },
    {
      "cell_type": "code",
      "metadata": {
        "id": "uio6aOahvvmo"
      },
      "source": [
        "cv = LeaveOneOut()"
      ],
      "execution_count": 90,
      "outputs": []
    },
    {
      "cell_type": "code",
      "metadata": {
        "id": "OF0b8nPnfEa0"
      },
      "source": [
        "from numpy import mean\n",
        "from numpy import std\n"
      ],
      "execution_count": 91,
      "outputs": []
    },
    {
      "cell_type": "code",
      "metadata": {
        "colab": {
          "base_uri": "https://localhost:8080/"
        },
        "id": "ZvG1Y7awvvmo",
        "outputId": "11f613e9-3505-4cbf-ae43-957b623c9744"
      },
      "source": [
        "# evaluate model\n",
        "scores = cross_val_score(model, X, y, scoring='neg_mean_absolute_error', cv=cv, n_jobs=-1)\n",
        "# force positive\n",
        "scores = abs(scores)\n",
        "# report performance\n",
        "print('MAE: %.3f (%.3f)' % (mean(scores), std(scores)))"
      ],
      "execution_count": 92,
      "outputs": [
        {
          "output_type": "stream",
          "text": [
            "MAE: 0.045 (0.053)\n"
          ],
          "name": "stdout"
        }
      ]
    },
    {
      "cell_type": "code",
      "metadata": {
        "colab": {
          "base_uri": "https://localhost:8080/"
        },
        "id": "krLbtAsWvvmr",
        "outputId": "c3dac19b-253b-48b0-844e-bdae0ac27a3e"
      },
      "source": [
        "model.score(X_test,y_test)\n",
        "#Accuracy Score"
      ],
      "execution_count": 93,
      "outputs": [
        {
          "output_type": "execute_result",
          "data": {
            "text/plain": [
              "0.9594985576723933"
            ]
          },
          "metadata": {
            "tags": []
          },
          "execution_count": 93
        }
      ]
    },
    {
      "cell_type": "code",
      "metadata": {
        "colab": {
          "base_uri": "https://localhost:8080/"
        },
        "id": "e0-TaJLLG3Dr",
        "outputId": "5bafd7fc-9048-41c6-9110-aaafa1978f3b"
      },
      "source": [
        "X.columns"
      ],
      "execution_count": 94,
      "outputs": [
        {
          "output_type": "execute_result",
          "data": {
            "text/plain": [
              "Index(['Id', 'MSSubClass', 'LotFrontage', 'LotArea', 'OverallQual',\n",
              "       'OverallCond', 'YearBuilt', 'YearRemodAdd', 'MasVnrArea', 'ExterQual',\n",
              "       ...\n",
              "       'SaleType_ConLI', 'SaleType_ConLw', 'SaleType_New', 'SaleType_Oth',\n",
              "       'SaleType_WD', 'SaleCondition_AdjLand', 'SaleCondition_Alloca',\n",
              "       'SaleCondition_Family', 'SaleCondition_Normal',\n",
              "       'SaleCondition_Partial'],\n",
              "      dtype='object', length=306)"
            ]
          },
          "metadata": {
            "tags": []
          },
          "execution_count": 94
        }
      ]
    },
    {
      "cell_type": "code",
      "metadata": {
        "colab": {
          "base_uri": "https://localhost:8080/",
          "height": 155
        },
        "id": "tEFrWHz7SL0d",
        "outputId": "40b9f244-21bb-47ab-a465-634215405647"
      },
      "source": [
        "X.head(2)"
      ],
      "execution_count": 95,
      "outputs": [
        {
          "output_type": "execute_result",
          "data": {
            "text/html": [
              "<div>\n",
              "<style scoped>\n",
              "    .dataframe tbody tr th:only-of-type {\n",
              "        vertical-align: middle;\n",
              "    }\n",
              "\n",
              "    .dataframe tbody tr th {\n",
              "        vertical-align: top;\n",
              "    }\n",
              "\n",
              "    .dataframe thead th {\n",
              "        text-align: right;\n",
              "    }\n",
              "</style>\n",
              "<table border=\"1\" class=\"dataframe\">\n",
              "  <thead>\n",
              "    <tr style=\"text-align: right;\">\n",
              "      <th></th>\n",
              "      <th>Id</th>\n",
              "      <th>MSSubClass</th>\n",
              "      <th>LotFrontage</th>\n",
              "      <th>LotArea</th>\n",
              "      <th>OverallQual</th>\n",
              "      <th>OverallCond</th>\n",
              "      <th>YearBuilt</th>\n",
              "      <th>YearRemodAdd</th>\n",
              "      <th>MasVnrArea</th>\n",
              "      <th>ExterQual</th>\n",
              "      <th>ExterCond</th>\n",
              "      <th>BsmtQual</th>\n",
              "      <th>BsmtCond</th>\n",
              "      <th>BsmtExposure</th>\n",
              "      <th>BsmtFinType1</th>\n",
              "      <th>BsmtFinSF1</th>\n",
              "      <th>BsmtFinType2</th>\n",
              "      <th>BsmtFinSF2</th>\n",
              "      <th>BsmtUnfSF</th>\n",
              "      <th>TotalBsmtSF</th>\n",
              "      <th>HeatingQC</th>\n",
              "      <th>CentralAir</th>\n",
              "      <th>1stFlrSF</th>\n",
              "      <th>2ndFlrSF</th>\n",
              "      <th>LowQualFinSF</th>\n",
              "      <th>GrLivArea</th>\n",
              "      <th>BsmtFullBath</th>\n",
              "      <th>BsmtHalfBath</th>\n",
              "      <th>FullBath</th>\n",
              "      <th>HalfBath</th>\n",
              "      <th>BedroomAbvGr</th>\n",
              "      <th>KitchenAbvGr</th>\n",
              "      <th>KitchenQual</th>\n",
              "      <th>TotRmsAbvGrd</th>\n",
              "      <th>Fireplaces</th>\n",
              "      <th>FireplaceQu</th>\n",
              "      <th>GarageFinish</th>\n",
              "      <th>GarageCars</th>\n",
              "      <th>GarageArea</th>\n",
              "      <th>GarageQual</th>\n",
              "      <th>...</th>\n",
              "      <th>GarageYrBlt_1990.0</th>\n",
              "      <th>GarageYrBlt_1991.0</th>\n",
              "      <th>GarageYrBlt_1992.0</th>\n",
              "      <th>GarageYrBlt_1993.0</th>\n",
              "      <th>GarageYrBlt_1994.0</th>\n",
              "      <th>GarageYrBlt_1995.0</th>\n",
              "      <th>GarageYrBlt_1996.0</th>\n",
              "      <th>GarageYrBlt_1997.0</th>\n",
              "      <th>GarageYrBlt_1998.0</th>\n",
              "      <th>GarageYrBlt_1999.0</th>\n",
              "      <th>GarageYrBlt_2000.0</th>\n",
              "      <th>GarageYrBlt_2001.0</th>\n",
              "      <th>GarageYrBlt_2002.0</th>\n",
              "      <th>GarageYrBlt_2003.0</th>\n",
              "      <th>GarageYrBlt_2004.0</th>\n",
              "      <th>GarageYrBlt_2005.0</th>\n",
              "      <th>GarageYrBlt_2006.0</th>\n",
              "      <th>GarageYrBlt_2007.0</th>\n",
              "      <th>GarageYrBlt_2008.0</th>\n",
              "      <th>GarageYrBlt_2009.0</th>\n",
              "      <th>GarageYrBlt_2010.0</th>\n",
              "      <th>GarageYrBlt_None</th>\n",
              "      <th>PavedDrive_P</th>\n",
              "      <th>PavedDrive_Y</th>\n",
              "      <th>MiscFeature_None</th>\n",
              "      <th>MiscFeature_Othr</th>\n",
              "      <th>MiscFeature_Shed</th>\n",
              "      <th>SaleType_CWD</th>\n",
              "      <th>SaleType_Con</th>\n",
              "      <th>SaleType_ConLD</th>\n",
              "      <th>SaleType_ConLI</th>\n",
              "      <th>SaleType_ConLw</th>\n",
              "      <th>SaleType_New</th>\n",
              "      <th>SaleType_Oth</th>\n",
              "      <th>SaleType_WD</th>\n",
              "      <th>SaleCondition_AdjLand</th>\n",
              "      <th>SaleCondition_Alloca</th>\n",
              "      <th>SaleCondition_Family</th>\n",
              "      <th>SaleCondition_Normal</th>\n",
              "      <th>SaleCondition_Partial</th>\n",
              "    </tr>\n",
              "  </thead>\n",
              "  <tbody>\n",
              "    <tr>\n",
              "      <th>0</th>\n",
              "      <td>1</td>\n",
              "      <td>60</td>\n",
              "      <td>65.0</td>\n",
              "      <td>8450</td>\n",
              "      <td>7</td>\n",
              "      <td>5</td>\n",
              "      <td>2003</td>\n",
              "      <td>2003</td>\n",
              "      <td>196.0</td>\n",
              "      <td>3</td>\n",
              "      <td>2</td>\n",
              "      <td>4</td>\n",
              "      <td>3</td>\n",
              "      <td>0</td>\n",
              "      <td>6</td>\n",
              "      <td>706</td>\n",
              "      <td>1</td>\n",
              "      <td>0</td>\n",
              "      <td>150</td>\n",
              "      <td>856</td>\n",
              "      <td>4</td>\n",
              "      <td>1</td>\n",
              "      <td>856</td>\n",
              "      <td>854</td>\n",
              "      <td>0</td>\n",
              "      <td>1710</td>\n",
              "      <td>1</td>\n",
              "      <td>0</td>\n",
              "      <td>2</td>\n",
              "      <td>1</td>\n",
              "      <td>3</td>\n",
              "      <td>1</td>\n",
              "      <td>3</td>\n",
              "      <td>8</td>\n",
              "      <td>0</td>\n",
              "      <td>0</td>\n",
              "      <td>2</td>\n",
              "      <td>2</td>\n",
              "      <td>548</td>\n",
              "      <td>3</td>\n",
              "      <td>...</td>\n",
              "      <td>0</td>\n",
              "      <td>0</td>\n",
              "      <td>0</td>\n",
              "      <td>0</td>\n",
              "      <td>0</td>\n",
              "      <td>0</td>\n",
              "      <td>0</td>\n",
              "      <td>0</td>\n",
              "      <td>0</td>\n",
              "      <td>0</td>\n",
              "      <td>0</td>\n",
              "      <td>0</td>\n",
              "      <td>0</td>\n",
              "      <td>1</td>\n",
              "      <td>0</td>\n",
              "      <td>0</td>\n",
              "      <td>0</td>\n",
              "      <td>0</td>\n",
              "      <td>0</td>\n",
              "      <td>0</td>\n",
              "      <td>0</td>\n",
              "      <td>0</td>\n",
              "      <td>0</td>\n",
              "      <td>1</td>\n",
              "      <td>1</td>\n",
              "      <td>0</td>\n",
              "      <td>0</td>\n",
              "      <td>0</td>\n",
              "      <td>0</td>\n",
              "      <td>0</td>\n",
              "      <td>0</td>\n",
              "      <td>0</td>\n",
              "      <td>0</td>\n",
              "      <td>0</td>\n",
              "      <td>1</td>\n",
              "      <td>0</td>\n",
              "      <td>0</td>\n",
              "      <td>0</td>\n",
              "      <td>1</td>\n",
              "      <td>0</td>\n",
              "    </tr>\n",
              "    <tr>\n",
              "      <th>1</th>\n",
              "      <td>2</td>\n",
              "      <td>20</td>\n",
              "      <td>80.0</td>\n",
              "      <td>9600</td>\n",
              "      <td>6</td>\n",
              "      <td>8</td>\n",
              "      <td>1976</td>\n",
              "      <td>1976</td>\n",
              "      <td>0.0</td>\n",
              "      <td>2</td>\n",
              "      <td>2</td>\n",
              "      <td>4</td>\n",
              "      <td>3</td>\n",
              "      <td>3</td>\n",
              "      <td>5</td>\n",
              "      <td>978</td>\n",
              "      <td>1</td>\n",
              "      <td>0</td>\n",
              "      <td>284</td>\n",
              "      <td>1262</td>\n",
              "      <td>4</td>\n",
              "      <td>1</td>\n",
              "      <td>1262</td>\n",
              "      <td>0</td>\n",
              "      <td>0</td>\n",
              "      <td>1262</td>\n",
              "      <td>0</td>\n",
              "      <td>1</td>\n",
              "      <td>2</td>\n",
              "      <td>0</td>\n",
              "      <td>3</td>\n",
              "      <td>1</td>\n",
              "      <td>2</td>\n",
              "      <td>6</td>\n",
              "      <td>1</td>\n",
              "      <td>3</td>\n",
              "      <td>2</td>\n",
              "      <td>2</td>\n",
              "      <td>460</td>\n",
              "      <td>3</td>\n",
              "      <td>...</td>\n",
              "      <td>0</td>\n",
              "      <td>0</td>\n",
              "      <td>0</td>\n",
              "      <td>0</td>\n",
              "      <td>0</td>\n",
              "      <td>0</td>\n",
              "      <td>0</td>\n",
              "      <td>0</td>\n",
              "      <td>0</td>\n",
              "      <td>0</td>\n",
              "      <td>0</td>\n",
              "      <td>0</td>\n",
              "      <td>0</td>\n",
              "      <td>0</td>\n",
              "      <td>0</td>\n",
              "      <td>0</td>\n",
              "      <td>0</td>\n",
              "      <td>0</td>\n",
              "      <td>0</td>\n",
              "      <td>0</td>\n",
              "      <td>0</td>\n",
              "      <td>0</td>\n",
              "      <td>0</td>\n",
              "      <td>1</td>\n",
              "      <td>1</td>\n",
              "      <td>0</td>\n",
              "      <td>0</td>\n",
              "      <td>0</td>\n",
              "      <td>0</td>\n",
              "      <td>0</td>\n",
              "      <td>0</td>\n",
              "      <td>0</td>\n",
              "      <td>0</td>\n",
              "      <td>0</td>\n",
              "      <td>1</td>\n",
              "      <td>0</td>\n",
              "      <td>0</td>\n",
              "      <td>0</td>\n",
              "      <td>1</td>\n",
              "      <td>0</td>\n",
              "    </tr>\n",
              "  </tbody>\n",
              "</table>\n",
              "<p>2 rows × 306 columns</p>\n",
              "</div>"
            ],
            "text/plain": [
              "   Id  MSSubClass  ...  SaleCondition_Normal  SaleCondition_Partial\n",
              "0   1          60  ...                     1                      0\n",
              "1   2          20  ...                     1                      0\n",
              "\n",
              "[2 rows x 306 columns]"
            ]
          },
          "metadata": {
            "tags": []
          },
          "execution_count": 95
        }
      ]
    },
    {
      "cell_type": "code",
      "metadata": {
        "id": "1alyB2AUvvmu"
      },
      "source": [
        "X1 = X.drop(['Id',\t'MSSubClass'\t,'LotFrontage'\t,'LotArea'\t,'OverallCond'\t,\t'MasVnrArea',\t\t'ExterCond',\t\t'BsmtCond'\t,'BsmtExposure'\t,'BsmtFinType1'\t,'BsmtFinSF1'\t,'BsmtFinType2'\t,'BsmtFinSF2'\t,'BsmtUnfSF',\t'HeatingQC',\t'CentralAir','2ndFlrSF',\t'LowQualFinSF',\t'BsmtFullBath',\t'BsmtHalfBath'\t,'FullBath'\t,'HalfBath',\t'BedroomAbvGr',\t'KitchenAbvGr',\t\t'GarageYrBlt_1990.0',\t'GarageYrBlt_1991.0',\t'GarageYrBlt_1992.0',\t'GarageYrBlt_1993.0',\t'GarageYrBlt_1994.0',\t'GarageYrBlt_1995.0',\t'GarageYrBlt_1996.0',\t'GarageYrBlt_1997.0','GarageYrBlt_1980.0', 'GarageYrBlt_1981.0', 'GarageYrBlt_1982.0',\n",
        "       'GarageYrBlt_1970.0', 'GarageYrBlt_1971.0', 'GarageYrBlt_1972.0',\n",
        "       'GarageYrBlt_1973.0', 'GarageYrBlt_1974.0', 'GarageYrBlt_1975.0',\n",
        "       'GarageYrBlt_1976.0', 'GarageYrBlt_1977.0', 'GarageYrBlt_1978.0',\n",
        "       'GarageYrBlt_1979.0',\n",
        "       'GarageYrBlt_1950.0', 'GarageYrBlt_1951.0', 'GarageYrBlt_1952.0',\n",
        "       'GarageYrBlt_1953.0', 'GarageYrBlt_1954.0', 'GarageYrBlt_1955.0',\n",
        "       'GarageYrBlt_1956.0', 'GarageYrBlt_1957.0', 'GarageYrBlt_1958.0',\n",
        "       'GarageYrBlt_1959.0',\n",
        "       'GarageYrBlt_1938.0', 'GarageYrBlt_1939.0', 'GarageYrBlt_1940.0',\n",
        "       'GarageYrBlt_1941.0', 'GarageYrBlt_1942.0', 'GarageYrBlt_1945.0',\n",
        "       'GarageYrBlt_1946.0', 'GarageYrBlt_1947.0', 'GarageYrBlt_1948.0',\n",
        "       'GarageYrBlt_1949.0',\n",
        "       'GarageYrBlt_1960.0', 'GarageYrBlt_1961.0', 'GarageYrBlt_1962.0',\n",
        "       'GarageYrBlt_1963.0', 'GarageYrBlt_1964.0', 'GarageYrBlt_1965.0',\n",
        "       'GarageYrBlt_1966.0', 'GarageYrBlt_1967.0', 'GarageYrBlt_1968.0',\n",
        "       'GarageYrBlt_1969.0',\n",
        "       'GarageYrBlt_1928.0', 'GarageYrBlt_1929.0', 'GarageYrBlt_1930.0',\n",
        "       'GarageYrBlt_1931.0', 'GarageYrBlt_1932.0', 'GarageYrBlt_1933.0',\n",
        "       'GarageYrBlt_1934.0', 'GarageYrBlt_1935.0', 'GarageYrBlt_1936.0',\n",
        "       'GarageYrBlt_1937.0',\n",
        "       'GarageYrBlt_1916.0', 'GarageYrBlt_1918.0', 'GarageYrBlt_1920.0',\n",
        "       'GarageYrBlt_1921.0', 'GarageYrBlt_1922.0', 'GarageYrBlt_1923.0',\n",
        "       'GarageYrBlt_1924.0', 'GarageYrBlt_1925.0', 'GarageYrBlt_1926.0',\n",
        "       'GarageYrBlt_1927.0',\n",
        "       'GarageType_Basment', 'GarageType_BuiltIn', 'GarageType_CarPort',\n",
        "       'GarageType_Detchd', 'GarageType_None', 'GarageYrBlt_1906.0',\n",
        "       'GarageYrBlt_1908.0', 'GarageYrBlt_1910.0', 'GarageYrBlt_1914.0',\n",
        "       'GarageYrBlt_1915.0',\n",
        "       'Electrical_Mix', 'Electrical_None', 'Electrical_SBrkr',\n",
        "       'Functional_Maj2', 'Functional_Min1', 'Functional_Min2',\n",
        "       'Functional_Mod', 'Functional_Sev', 'Functional_Typ',\n",
        "       'GarageType_Attchd',\n",
        "       'Exterior2nd_MetalSd', 'Exterior2nd_Other', 'Exterior2nd_Plywood',\n",
        "       'Exterior2nd_Stone', 'Exterior2nd_Stucco', 'Exterior2nd_VinylSd',\n",
        "       'Exterior2nd_Wd Sdng', 'Exterior2nd_Wd Shng', 'MasVnrType_BrkFace',\n",
        "       'MasVnrType_None',\n",
        "       'Exterior1st_VinylSd', 'Exterior1st_Wd Sdng', 'Exterior1st_WdShing',\n",
        "       'Exterior2nd_AsphShn', 'Exterior2nd_Brk Cmn', 'Exterior2nd_BrkFace',\n",
        "       'Exterior2nd_CBlock', 'Exterior2nd_CmentBd', 'Exterior2nd_HdBoard',\n",
        "       'Exterior2nd_ImStucc',\n",
        "        'Exterior1st_BrkComm', 'Exterior1st_BrkFace', 'Exterior1st_CBlock',\n",
        "       'Exterior1st_CemntBd', 'Exterior1st_HdBoard', 'Exterior1st_ImStucc',\n",
        "       'Exterior1st_MetalSd', 'Exterior1st_Plywood', 'Exterior1st_Stone',\n",
        "       'Exterior1st_Stucco',\n",
        "       'RoofStyle_Gambrel', 'RoofStyle_Hip', 'RoofStyle_Mansard',\n",
        "       'RoofStyle_Shed', 'RoofMatl_Membran', 'RoofMatl_Metal', 'RoofMatl_Roll',\n",
        "       'RoofMatl_Tar&Grv', 'RoofMatl_WdShake', 'RoofMatl_WdShngl',\n",
        "       'MasVnrType_Stone', 'Foundation_CBlock', \n",
        "       'Foundation_Stone', 'Foundation_Wood', 'Heating_GasW', 'Heating_Grav',\n",
        "       'Heating_OthW', 'Electrical_FuseF', 'Electrical_FuseP',\n",
        "       'GarageYrBlt_1983.0', 'GarageYrBlt_1984.0', 'GarageYrBlt_1985.0',\n",
        "       'GarageYrBlt_1986.0', 'GarageYrBlt_1987.0', 'GarageYrBlt_1988.0',\n",
        "       'GarageYrBlt_1989.0'\t,'GarageYrBlt_1998.0',\t'GarageYrBlt_1999.0',\n",
        "       'MSZoning_FV', 'MSZoning_RH', 'MSZoning_RL', 'MSZoning_RM',\n",
        "       'Street_Pave', 'Alley_None', 'Alley_Pave', 'LotShape_IR2',\n",
        "       'LotShape_IR3', 'LotShape_Reg', 'LandContour_HLS', 'LandContour_Low',\n",
        "       'LandContour_Lvl', 'Utilities_NoSeWa', 'LotConfig_CulDSac',\n",
        "       'LotConfig_FR2', 'LotConfig_FR3', 'LotConfig_Inside', 'LandSlope_Mod',\n",
        "       'LandSlope_Sev', 'Neighborhood_Blueste', 'Neighborhood_BrDale',\n",
        "       'Neighborhood_BrkSide', 'Neighborhood_ClearCr', 'Neighborhood_CollgCr',\n",
        "       'Neighborhood_Crawfor', 'Neighborhood_Edwards', 'Neighborhood_Gilbert',\n",
        "       'Neighborhood_IDOTRR', 'Neighborhood_MeadowV', 'Neighborhood_Mitchel',\n",
        "       'Neighborhood_NAmes', 'Neighborhood_NPkVill', 'Neighborhood_NWAmes',\n",
        "       'Neighborhood_NoRidge', 'Neighborhood_NridgHt', 'Neighborhood_OldTown',\n",
        "       'Neighborhood_SWISU', 'Neighborhood_Sawyer', 'Neighborhood_SawyerW',\n",
        "       'Neighborhood_Somerst', 'Neighborhood_StoneBr', 'Neighborhood_Timber',\n",
        "       'Neighborhood_Veenker', 'Condition1_Feedr', 'Condition1_Norm',\n",
        "       'Condition1_PosA', 'Condition1_PosN', 'Condition1_RRAe',\n",
        "       'Condition1_RRAn', 'Condition1_RRNe', 'Condition1_RRNn',\n",
        "       'Condition2_Feedr', 'Condition2_Norm', 'Condition2_RRAe',\n",
        "       'Condition2_RRAn', 'Condition2_RRNn', 'BldgType_2fmCon',\n",
        "       'BldgType_Duplex', 'BldgType_Twnhs', 'BldgType_TwnhsE',\n",
        "       'HouseStyle_1.5Unf', 'HouseStyle_1Story', 'HouseStyle_2.5Fin',\n",
        "       'HouseStyle_2.5Unf', 'HouseStyle_2Story', 'HouseStyle_SFoyer',\n",
        "       'HouseStyle_SLvl', 'RoofStyle_Gable','SalePrice','PoolArea','WoodDeckSF',\n",
        "       'GarageQual', 'GarageCond',\n",
        "       'OpenPorchSF', 'EnclosedPorch', '3SsnPorch', 'ScreenPorch', 'PoolQC',\n",
        "       'Fence', 'MiscVal',\n",
        "       \t'GarageYrBlt_2000.0',\t'GarageYrBlt_2001.0',\t'GarageYrBlt_2002.0',\t'GarageYrBlt_2003.0',\t'GarageYrBlt_2004.0',\t'GarageYrBlt_2005.0',\t'GarageYrBlt_2006.0',\t'GarageYrBlt_2007.0',\t'GarageYrBlt_2008.0',\t'GarageYrBlt_2009.0',\t'GarageYrBlt_2010.0',\t'GarageYrBlt_None',\t'PavedDrive_P',\t'PavedDrive_Y',\t'MiscFeature_None',\t'MiscFeature_Othr',\t'MiscFeature_Shed',\t'SaleType_CWD',\t'SaleType_Con',\n",
        "      \t'SaleType_ConLD',\t'SaleType_ConLI'\t,'SaleType_ConLw',\t'SaleType_New'\t,'SaleType_Oth',\t'SaleType_WD',\t'SaleCondition_AdjLand',\t'SaleCondition_Alloca',\t'SaleCondition_Family',\t'SaleCondition_Normal',\t'SaleCondition_Partial'], axis =1)"
      ],
      "execution_count": 96,
      "outputs": []
    },
    {
      "cell_type": "code",
      "metadata": {
        "colab": {
          "base_uri": "https://localhost:8080/"
        },
        "id": "TD8ugVERSKZx",
        "outputId": "e3a8cdfb-95b9-485c-fc4d-efcc1ed5de96"
      },
      "source": [
        "X1.columns"
      ],
      "execution_count": 97,
      "outputs": [
        {
          "output_type": "execute_result",
          "data": {
            "text/plain": [
              "Index(['OverallQual', 'YearBuilt', 'YearRemodAdd', 'ExterQual', 'BsmtQual',\n",
              "       'TotalBsmtSF', '1stFlrSF', 'GrLivArea', 'KitchenQual', 'TotRmsAbvGrd',\n",
              "       'Fireplaces', 'FireplaceQu', 'GarageFinish', 'GarageCars', 'GarageArea',\n",
              "       'MoSold', 'YrSold', 'NewHouse', 'TotalSF', 'TotalBath', 'TotalPorch',\n",
              "       'Foundation_PConc'],\n",
              "      dtype='object')"
            ]
          },
          "metadata": {
            "tags": []
          },
          "execution_count": 97
        }
      ]
    },
    {
      "cell_type": "code",
      "metadata": {
        "id": "En8kDWI8vvmu"
      },
      "source": [
        "# training and validation set\n",
        "X_train1,X_test1,y_train1,y_test1 = train_test_split(X1,y,test_size=0.2,random_state = 48)\n"
      ],
      "execution_count": 98,
      "outputs": []
    },
    {
      "cell_type": "code",
      "metadata": {
        "id": "lFCud26nvvmv",
        "colab": {
          "base_uri": "https://localhost:8080/"
        },
        "outputId": "c4f5ac78-1457-4b51-ed04-d628c417745c"
      },
      "source": [
        "from sklearn.metrics import mean_squared_error\n",
        "from sklearn import linear_model\n",
        "\n",
        "classifiers = [\n",
        "    linear_model.BayesianRidge(),\n",
        "    linear_model.Ridge(alpha =8) #chose 8 after trying various values randomly\n",
        "    \n",
        "\n",
        "]\n",
        "\n",
        "\n",
        "for item in classifiers:\n",
        "    print('\\033[1m' ,item,'\\n','\\033[0m')\n",
        "    clf = item\n",
        "    clf.fit(X_train1, y_train1)\n",
        "    print('Accuracy score is: \\n',clf.score(X_test1, y_test1),'\\n')\n",
        "    print ('RMSE is: \\n', mean_squared_error(y_test1, clf.predict(X_test1)),'\\n')\n",
        "\n",
        "    \n",
        "    \n"
      ],
      "execution_count": 99,
      "outputs": [
        {
          "output_type": "stream",
          "text": [
            "\u001b[1m BayesianRidge(alpha_1=1e-06, alpha_2=1e-06, alpha_init=None,\n",
            "              compute_score=False, copy_X=True, fit_intercept=True,\n",
            "              lambda_1=1e-06, lambda_2=1e-06, lambda_init=None, n_iter=300,\n",
            "              normalize=False, tol=0.001, verbose=False) \n",
            " \u001b[0m\n",
            "Accuracy score is: \n",
            " 0.8292786263182158 \n",
            "\n",
            "RMSE is: \n",
            " 0.022870791644096493 \n",
            "\n",
            "\u001b[1m Ridge(alpha=8, copy_X=True, fit_intercept=True, max_iter=None, normalize=False,\n",
            "      random_state=None, solver='auto', tol=0.001) \n",
            " \u001b[0m\n",
            "Accuracy score is: \n",
            " 0.8283815362171664 \n",
            "\n",
            "RMSE is: \n",
            " 0.02299097085976592 \n",
            "\n"
          ],
          "name": "stdout"
        }
      ]
    },
    {
      "cell_type": "markdown",
      "metadata": {
        "id": "Vw1xS1ggbDLV"
      },
      "source": [
        "We would not take subset of the data as it leads to lesser accuracy score."
      ]
    },
    {
      "cell_type": "code",
      "metadata": {
        "id": "B71n3Lh7vvmv"
      },
      "source": [
        ""
      ],
      "execution_count": 99,
      "outputs": []
    },
    {
      "cell_type": "code",
      "metadata": {
        "id": "ZoYT3J3Ovvmw"
      },
      "source": [
        ""
      ],
      "execution_count": 99,
      "outputs": []
    }
  ]
}